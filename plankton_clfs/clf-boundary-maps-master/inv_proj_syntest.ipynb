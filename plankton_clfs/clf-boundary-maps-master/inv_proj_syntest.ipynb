{
 "cells": [
  {
   "cell_type": "code",
   "execution_count": 3,
   "metadata": {},
   "outputs": [
    {
     "name": "stdout",
     "output_type": "stream",
     "text": [
      "The autoreload extension is already loaded. To reload it, use:\n",
      "  %reload_ext autoreload\n"
     ]
    }
   ],
   "source": [
    "%load_ext autoreload\n",
    "%autoreload 2\n",
    "\n",
    "from lamp import ILAMP\n",
    "from lamp import RBFInv\n",
    "import numpy as np\n",
    "from sklearn import preprocessing\n",
    "from sklearn import datasets\n",
    "import time\n",
    "import matplotlib.pyplot as plt"
   ]
  },
  {
   "cell_type": "code",
   "execution_count": 7,
   "metadata": {},
   "outputs": [
    {
     "name": "stderr",
     "output_type": "stream",
     "text": [
      "/home/fcmr/miniconda3/lib/python3.7/site-packages/matplotlib/figure.py:98: MatplotlibDeprecationWarning: \n",
      "Adding an axes using the same arguments as a previous axes currently reuses the earlier instance.  In a future version, a new instance will always be created and returned.  Meanwhile, this warning can be suppressed, and the future behavior ensured, by passing a unique label to each axes instance.\n",
      "  \"Adding an axes using the same arguments as a previous axes \"\n"
     ]
    },
    {
     "data": {
      "text/plain": [
       "<matplotlib.legend.Legend at 0x7f1838f32908>"
      ]
     },
     "execution_count": 7,
     "metadata": {},
     "output_type": "execute_result"
    },
    {
     "data": {
      "image/png": "[encoded data removed]",
      "text/plain": [
       "<Figure size 432x288 with 1 Axes>"
      ]
     },
     "metadata": {},
     "output_type": "display_data"
    }
   ],
   "source": [
    "X, y = datasets.make_blobs(200, centers=[(-5.0, -5.0), (5.0, 5.0)])\n",
    "\n",
    "scaler = preprocessing.MinMaxScaler(feature_range=(0, 1))\n",
    "X = scaler.fit_transform(X)\n",
    "\n",
    "COLORS = np.array([[0.09, 0.414, 0.9, 0.5],\n",
    "                   [0.9, 0.333, 0.09, 0.5],\n",
    "                   [0.09, 0.9, 0.171, 0.5],\n",
    "                   [0.9, 0.09, 0.819, 0.5],\n",
    "                   [0.495, 0.09, 0.9, 0.5],\n",
    "                   [0.495, 0.9, 0.09, 0.5],\n",
    "                   [0.09, 0.657, 0.9, 0.5],\n",
    "                   [0.9, 0.09, 0.333, 0.5],\n",
    "                   [0.9, 0.819, 0.09, 0.5],\n",
    "                   [0.09, 0.9, 0.657, 0.5]])\n",
    "\n",
    "colors = [COLORS[i] for i in y]\n",
    "labels = [\"0\", \"1\"]\n",
    "leg_colors = COLORS[:len(labels)]\n",
    "plt.title(\"Projections\")\n",
    "\n",
    "ax = plt.subplot(111)\n",
    "ax.set_xticks([])\n",
    "ax.set_yticks([])\n",
    "ax.set_aspect('equal')\n",
    "ax.scatter(X[:, 0], X[:, 1], color=colors, s=10.0)\n",
    "\n",
    "handles = []\n",
    "for c in leg_colors:\n",
    "    handles.append(plt.scatter([], [], color=c))\n",
    "ax.legend(handles, labels, loc=\"lower left\", borderaxespad=0.0, bbox_to_anchor=(1.05, 0))"
   ]
  },
  {
   "cell_type": "code",
   "execution_count": 30,
   "metadata": {},
   "outputs": [
    {
     "data": {
      "text/plain": [
       "<matplotlib.image.AxesImage at 0x7f1835d7c278>"
      ]
     },
     "execution_count": 30,
     "metadata": {},
     "output_type": "execute_result"
    },
    {
     "data": {
      "image/png": "[encoded data removed]",
      "text/plain": [
       "<Figure size 432x288 with 1 Axes>"
      ]
     },
     "metadata": {
      "needs_background": "light"
     },
     "output_type": "display_data"
    }
   ],
   "source": [
    "def make_img_grid(values, N):\n",
    "    img_grid = np.zeros((N*28, N*28))\n",
    "    for row in range(N):\n",
    "        for col in range(N):\n",
    "            img_grid[row*28:row*28 + 28, (9 - col)*28:(9 - col)*28 + 28] = values[row, col]\n",
    "    return img_grid\n",
    "\n",
    "divs = np.linspace(0.0, 1.0, 11)\n",
    "coords = (divs[:-1] + divs[1:])*0.5\n",
    "xx, yy = np.meshgrid(coords, coords)\n",
    "p_coords = np.dstack((xx, yy))\n",
    "p_coords = np.vstack(p_coords)\n",
    "\n",
    "N = 10\n",
    "\n",
    "ilamp = ILAMP()\n",
    "ilamp.fit(X, X, n_neighbors=3)\n",
    "\n",
    "samples_ilamp = ilamp.transform(p_coords)\n",
    "diffs_ilamp = np.linalg.norm(samples_ilamp - p_coords, axis=1).reshape(N, N)\n",
    "plt.imshow(make_img_grid(diffs_ilamp, N), cmap=\"gray\")"
   ]
  },
  {
   "cell_type": "code",
   "execution_count": 26,
   "metadata": {},
   "outputs": [
    {
     "data": {
      "text/plain": [
       "3.510833468576701e-16"
      ]
     },
     "execution_count": 26,
     "metadata": {},
     "output_type": "execute_result"
    }
   ],
   "source": [
    "diffs_ilamp.max()"
   ]
  },
  {
   "cell_type": "code",
   "execution_count": 31,
   "metadata": {},
   "outputs": [
    {
     "name": "stdout",
     "output_type": "stream",
     "text": [
      "0.4722853990237663\n"
     ]
    },
    {
     "data": {
      "text/plain": [
       "<matplotlib.image.AxesImage at 0x7f1835d4ef60>"
      ]
     },
     "execution_count": 31,
     "metadata": {},
     "output_type": "execute_result"
    },
    {
     "data": {
      "image/png": "[encoded data removed]",
      "text/plain": [
       "<Figure size 432x288 with 1 Axes>"
      ]
     },
     "metadata": {
      "needs_background": "light"
     },
     "output_type": "display_data"
    }
   ],
   "source": [
    "def multi_quadrics(r):\n",
    "    return np.sqrt(c + eps*(r**2))\n",
    "\n",
    "c = 0.0\n",
    "eps = 10.0\n",
    "irbf_mq0 = RBFInv()\n",
    "irbf_mq0.fit(X, X, num_ctrl=10, mode='rols', kernel=multi_quadrics, normalize_c=True, normalize_d=True, \n",
    "         reg_coef=0.0)\n",
    "invmq0 = irbf_mq0.transform(p_coords)\n",
    "\n",
    "diffs_irbf = np.linalg.norm(invmq0 - p_coords, axis=1).reshape(N, N)\n",
    "print(diffs_irbf.max())\n",
    "plt.imshow(make_img_grid(diffs_irbf, N), cmap=\"gray\")"
   ]
  },
  {
   "cell_type": "code",
   "execution_count": 44,
   "metadata": {},
   "outputs": [
    {
     "name": "stdout",
     "output_type": "stream",
     "text": [
      "4.146093572925544\n"
     ]
    },
    {
     "data": {
      "text/plain": [
       "<matplotlib.image.AxesImage at 0x7f18358a74e0>"
      ]
     },
     "execution_count": 44,
     "metadata": {},
     "output_type": "execute_result"
    },
    {
     "data": {
      "image/png": "[encoded data removed]",
      "text/plain": [
       "<Figure size 432x288 with 1 Axes>"
      ]
     },
     "metadata": {
      "needs_background": "light"
     },
     "output_type": "display_data"
    }
   ],
   "source": [
    "def gaussian(r):\n",
    "    return np.exp(-(eps*(r**2.0)))\n",
    "\n",
    "eps = 15.0\n",
    "\n",
    "irbf_gk0 = RBFInv()\n",
    "irbf_gk0.fit(X, X, num_ctrl=10, mode='rols', kernel=gaussian, normalize_c=True, normalize_d=True)\n",
    "inv_gk0 = irbf_gk0.transform(p_coords)\n",
    "\n",
    "diffs_irbf2 = np.linalg.norm(inv_gk0 - p_coords, axis=1).reshape(N, N)\n",
    "print(diffs_irbf2.max())\n",
    "plt.imshow(make_img_grid(diffs_irbf2, N), cmap=\"gray\")"
   ]
  },
  {
   "cell_type": "code",
   "execution_count": 47,
   "metadata": {},
   "outputs": [
    {
     "name": "stdout",
     "output_type": "stream",
     "text": [
      "1.866448093307169\n"
     ]
    },
    {
     "data": {
      "text/plain": [
       "<matplotlib.image.AxesImage at 0x7f18357b3a90>"
      ]
     },
     "execution_count": 47,
     "metadata": {},
     "output_type": "execute_result"
    },
    {
     "data": {
      "image/png": "[encoded data removed]",
      "text/plain": [
       "<Figure size 432x288 with 1 Axes>"
      ]
     },
     "metadata": {
      "needs_background": "light"
     },
     "output_type": "display_data"
    }
   ],
   "source": [
    "def gaussian(r):\n",
    "    return np.exp(-(eps*(r**2.0)))\n",
    "\n",
    "eps = 15.0\n",
    "\n",
    "irbf_gk1 = RBFInv()\n",
    "irbf_gk1.fit(X, X, num_ctrl=5, mode='neighbors', kernel=gaussian, normalize_c=True, normalize_d=True)\n",
    "inv_gk1 = irbf_gk1.transform(p_coords)\n",
    "\n",
    "diffs_irbf3 = np.linalg.norm(inv_gk1 - p_coords, axis=1).reshape(N, N)\n",
    "print(diffs_irbf3.max())\n",
    "plt.imshow(make_img_grid(diffs_irbf3, N), cmap=\"gray\")"
   ]
  },
  {
   "cell_type": "code",
   "execution_count": 52,
   "metadata": {},
   "outputs": [
    {
     "name": "stdout",
     "output_type": "stream",
     "text": [
      "0.9563736754890043\n"
     ]
    },
    {
     "data": {
      "text/plain": [
       "<matplotlib.image.AxesImage at 0x7f18355f7710>"
      ]
     },
     "execution_count": 52,
     "metadata": {},
     "output_type": "execute_result"
    },
    {
     "data": {
      "image/png": "[encoded data removed]",
      "text/plain": [
       "<Figure size 432x288 with 1 Axes>"
      ]
     },
     "metadata": {
      "needs_background": "light"
     },
     "output_type": "display_data"
    }
   ],
   "source": [
    "eps = 150000.0\n",
    "\n",
    "irbf_gk2 = RBFInv()\n",
    "irbf_gk2.fit(X, X, num_ctrl=4, mode='cluster', kernel=gaussian, normalize_c=True, normalize_d=True)\n",
    "inv_gk2 = irbf_gk2.transform(p_coords)\n",
    "\n",
    "diffs_irbf4 = np.linalg.norm(inv_gk2 - p_coords, axis=1).reshape(N, N)\n",
    "print(diffs_irbf4.max())\n",
    "plt.imshow(make_img_grid(diffs_irbf4, N), cmap=\"gray\")"
   ]
  },
  {
   "cell_type": "code",
   "execution_count": null,
   "metadata": {},
   "outputs": [],
   "source": []
  }
 ],
 "metadata": {
  "kernelspec": {
   "display_name": "Python 3",
   "language": "python",
   "name": "python3"
  },
  "language_info": {
   "codemirror_mode": {
    "name": "ipython",
    "version": 3
   },
   "file_extension": ".py",
   "mimetype": "text/x-python",
   "name": "python",
   "nbconvert_exporter": "python",
   "pygments_lexer": "ipython3",
   "version": "3.7.0"
  }
 },
 "nbformat": 4,
 "nbformat_minor": 2
}
