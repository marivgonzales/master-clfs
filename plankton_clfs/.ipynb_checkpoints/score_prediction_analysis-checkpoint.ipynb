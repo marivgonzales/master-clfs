{
 "cells": [
  {
   "cell_type": "code",
   "execution_count": 9,
   "metadata": {
    "collapsed": true
   },
   "outputs": [],
   "source": [
    "import numpy as np\n",
    "import matplotlib.pyplot as plt\n",
    "import pandas as pd"
   ]
  },
  {
   "cell_type": "code",
   "execution_count": 10,
   "metadata": {
    "collapsed": true
   },
   "outputs": [],
   "source": [
    "predicted_labels = np.load(\"./ndsb_dataset_nounk/predicted_labels_079_valid.npy\")\n",
    "predictions= np.load(\"./ndsb_dataset_nounk/complete_predictions_079_valid.npy\")\n",
    "\n",
    "real_labels = np.load(\"./ndsb_dataset_nounk/real_labels_nounk.npy\")"
   ]
  },
  {
   "cell_type": "code",
   "execution_count": 11,
   "metadata": {
    "collapsed": true
   },
   "outputs": [],
   "source": [
    "data = pd.DataFrame(predictions)"
   ]
  },
  {
   "cell_type": "code",
   "execution_count": 12,
   "metadata": {
    "collapsed": true
   },
   "outputs": [],
   "source": [
    "data['max'] = data.apply(max, axis=1)\n",
    "data['predicted'] = predicted_labels\n",
    "data['real'] = real_labels"
   ]
  },
  {
   "cell_type": "code",
   "execution_count": 13,
   "metadata": {},
   "outputs": [],
   "source": [
    "classes = pd.DataFrame()\n",
    "classes['bla'] = data['real'].value_counts()\n",
    "classes = classes.sort_index()"
   ]
  },
  {
   "cell_type": "code",
   "execution_count": 14,
   "metadata": {},
   "outputs": [
    {
     "name": "stderr",
     "output_type": "stream",
     "text": [
      "C:\\Users\\mariv\\Anaconda3\\lib\\site-packages\\ipykernel_launcher.py:5: UserWarning: Boolean Series key will be reindexed to match DataFrame index.\n",
      "  \"\"\"\n",
      "C:\\Users\\mariv\\Anaconda3\\lib\\site-packages\\ipykernel_launcher.py:5: SettingWithCopyWarning: \n",
      "A value is trying to be set on a copy of a slice from a DataFrame\n",
      "\n",
      "See the caveats in the documentation: http://pandas.pydata.org/pandas-docs/stable/indexing.html#indexing-view-versus-copy\n",
      "  \"\"\"\n",
      "C:\\Users\\mariv\\Anaconda3\\lib\\site-packages\\ipykernel_launcher.py:6: UserWarning: Boolean Series key will be reindexed to match DataFrame index.\n",
      "  \n",
      "C:\\Users\\mariv\\Anaconda3\\lib\\site-packages\\ipykernel_launcher.py:6: SettingWithCopyWarning: \n",
      "A value is trying to be set on a copy of a slice from a DataFrame\n",
      "\n",
      "See the caveats in the documentation: http://pandas.pydata.org/pandas-docs/stable/indexing.html#indexing-view-versus-copy\n",
      "  \n"
     ]
    }
   ],
   "source": [
    "classes['vp'] = data[data['predicted'] == data['real']]['real'].value_counts()\n",
    "classes['fn'] = 0\n",
    "classes['fp'] = 0\n",
    "for i in classes.index:\n",
    "    classes.fp[i] = data[data['predicted'] == i][data['real'] != i]['predicted'].count()\n",
    "    classes.fn[i] = data[data['predicted'] != i][data['real'] == i]['real'].count()\n",
    "classes = classes.sort_index()\n"
   ]
  },
  {
   "cell_type": "code",
   "execution_count": 15,
   "metadata": {},
   "outputs": [
    {
     "data": {
      "text/html": [
       "<div>\n",
       "<style scoped>\n",
       "    .dataframe tbody tr th:only-of-type {\n",
       "        vertical-align: middle;\n",
       "    }\n",
       "\n",
       "    .dataframe tbody tr th {\n",
       "        vertical-align: top;\n",
       "    }\n",
       "\n",
       "    .dataframe thead th {\n",
       "        text-align: right;\n",
       "    }\n",
       "</style>\n",
       "<table border=\"1\" class=\"dataframe\">\n",
       "  <thead>\n",
       "    <tr style=\"text-align: right;\">\n",
       "      <th></th>\n",
       "      <th>bla</th>\n",
       "      <th>vp</th>\n",
       "      <th>fn</th>\n",
       "      <th>fp</th>\n",
       "      <th>recall</th>\n",
       "      <th>precision</th>\n",
       "      <th>f1_score</th>\n",
       "    </tr>\n",
       "  </thead>\n",
       "  <tbody>\n",
       "    <tr>\n",
       "      <th>0</th>\n",
       "      <td>89</td>\n",
       "      <td>84.0</td>\n",
       "      <td>5</td>\n",
       "      <td>7</td>\n",
       "      <td>0.943820</td>\n",
       "      <td>0.923077</td>\n",
       "      <td>0.933333</td>\n",
       "    </tr>\n",
       "    <tr>\n",
       "      <th>1</th>\n",
       "      <td>1</td>\n",
       "      <td>NaN</td>\n",
       "      <td>1</td>\n",
       "      <td>2</td>\n",
       "      <td>NaN</td>\n",
       "      <td>NaN</td>\n",
       "      <td>NaN</td>\n",
       "    </tr>\n",
       "    <tr>\n",
       "      <th>2</th>\n",
       "      <td>7</td>\n",
       "      <td>3.0</td>\n",
       "      <td>4</td>\n",
       "      <td>0</td>\n",
       "      <td>0.428571</td>\n",
       "      <td>1.000000</td>\n",
       "      <td>0.600000</td>\n",
       "    </tr>\n",
       "    <tr>\n",
       "      <th>3</th>\n",
       "      <td>5</td>\n",
       "      <td>1.0</td>\n",
       "      <td>4</td>\n",
       "      <td>1</td>\n",
       "      <td>0.200000</td>\n",
       "      <td>0.500000</td>\n",
       "      <td>0.285714</td>\n",
       "    </tr>\n",
       "    <tr>\n",
       "      <th>4</th>\n",
       "      <td>2</td>\n",
       "      <td>NaN</td>\n",
       "      <td>2</td>\n",
       "      <td>0</td>\n",
       "      <td>NaN</td>\n",
       "      <td>NaN</td>\n",
       "      <td>NaN</td>\n",
       "    </tr>\n",
       "  </tbody>\n",
       "</table>\n",
       "</div>"
      ],
      "text/plain": [
       "   bla    vp  fn  fp    recall  precision  f1_score\n",
       "0   89  84.0   5   7  0.943820   0.923077  0.933333\n",
       "1    1   NaN   1   2       NaN        NaN       NaN\n",
       "2    7   3.0   4   0  0.428571   1.000000  0.600000\n",
       "3    5   1.0   4   1  0.200000   0.500000  0.285714\n",
       "4    2   NaN   2   0       NaN        NaN       NaN"
      ]
     },
     "execution_count": 15,
     "metadata": {},
     "output_type": "execute_result"
    }
   ],
   "source": [
    "classes['recall'] = classes['vp']/(classes['vp'] + classes['fn'])\n",
    "classes['precision'] = classes['vp']/(classes['vp'] + classes['fp'])\n",
    "classes['f1_score'] = (classes['recall']*classes['precision']*2)/(classes['recall']+classes['precision'])\n",
    "classes.head()"
   ]
  },
  {
   "cell_type": "code",
   "execution_count": 16,
   "metadata": {},
   "outputs": [
    {
     "data": {
      "image/png": "[encoded data removed]",
      "text/plain": [
       "<Figure size 432x288 with 1 Axes>"
      ]
     },
     "metadata": {},
     "output_type": "display_data"
    }
   ],
   "source": [
    "%matplotlib inline\n",
    "\n",
    "f,a = plt.subplots()\n",
    "\n",
    "aux = np.array(classes['f1_score'])\n",
    "aux2 = np.array(classes.index)\n",
    "\n",
    "a.bar(x=aux2, height=aux)\n",
    "\n",
    "plt.show()"
   ]
  },
  {
   "cell_type": "code",
   "execution_count": null,
   "metadata": {},
   "outputs": [],
   "source": [
    "%matplotlib inline\n",
    "f, a = plt.subplots()\n",
    "box_true = data[data['predicted'] == data['real']]['max']\n",
    "box_false = data[data['predicted'] != data['real']]['max']\n",
    "a.boxplot([box_true, box_false],  labels=['+', '-'])\n",
    "a.set_title('scores')\n",
    "    \n",
    "f.subplots_adjust(hspace=0)\n",
    "plt.show()\n"
   ]
  },
  {
   "cell_type": "code",
   "execution_count": null,
   "metadata": {},
   "outputs": [],
   "source": [
    "f, a = plt.subplots(1,13, sharex=False, sharey=True)\n",
    "\n",
    "colors = ['blue', 'red']\n",
    "\n",
    "for i in range(13):\n",
    "    j = i+14\n",
    "    box_true = data[data['predicted'] == j][data['real'] == j]['max']\n",
    "    box_false = data[data['predicted'] != j][data['real'] == j]['max']\n",
    "    print(\"loading\", j)\n",
    "    bplot = a[i].boxplot([box_true, box_false], widths=0.8, labels=['+', '-'],patch_artist=True)\n",
    "    a[i].set_title(j)\n",
    "\n",
    "    for patch, color in zip(bplot['boxes'], colors):\n",
    "        patch.set_facecolor(color)\n",
    "        \n",
    "f.subplots_adjust(hspace=0)\n",
    "plt.show()"
   ]
  },
  {
   "cell_type": "code",
   "execution_count": null,
   "metadata": {},
   "outputs": [],
   "source": [
    "f, a = plt.subplots()\n",
    "box_true = data[data['predicted'] == data['real']][data['real'] == 85]['max']\n",
    "box_false = data[data['predicted'] != data['real']][data['real'] == 85]['max']\n",
    "a.boxplot([box_true, box_false],  labels=['+', '-'])\n",
    "a.set_title('classe 85')\n",
    "    \n",
    "f.subplots_adjust(hspace=0)\n",
    "plt.show()\n"
   ]
  },
  {
   "cell_type": "code",
   "execution_count": null,
   "metadata": {},
   "outputs": [],
   "source": [
    "f, a = plt.subplots()\n",
    "box_true = data[data['predicted'] == data['real']][data['real'] == 110]['max']\n",
    "box_false = data[data['predicted'] != data['real']][data['real'] == 110]['max']\n",
    "a.boxplot([box_true, box_false],  labels=['+', '-'])\n",
    "a.set_title('classe 110')\n",
    "    \n",
    "f.subplots_adjust(hspace=0)\n",
    "plt.show()"
   ]
  },
  {
   "cell_type": "code",
   "execution_count": null,
   "metadata": {},
   "outputs": [],
   "source": [
    "f, a = plt.subplots()\n",
    "box_true = data[data['predicted'] == data['real']][data['real'] == 28]['max']\n",
    "box_false = data[data['predicted'] != data['real']][data['real'] == 28]['max']\n",
    "a.boxplot([box_true, box_false],  labels=['+', '-'])\n",
    "a.set_title('classe 28')\n",
    "    \n",
    "f.subplots_adjust(hspace=0)\n",
    "plt.show()"
   ]
  },
  {
   "cell_type": "code",
   "execution_count": null,
   "metadata": {},
   "outputs": [],
   "source": [
    "f, a = plt.subplots()\n",
    "box_true = data[data['predicted'] == data['real']][data['real'] == 55]['max']\n",
    "box_false = data[data['predicted'] != data['real']][data['real'] == 55]['max']\n",
    "a.boxplot([box_true, box_false],  labels=['+', '-'])\n",
    "a.set_title('classe 55')\n",
    "    \n",
    "f.subplots_adjust(hspace=0)\n",
    "plt.show()"
   ]
  },
  {
   "cell_type": "code",
   "execution_count": null,
   "metadata": {},
   "outputs": [],
   "source": [
    "f, a = plt.subplots()\n",
    "box_true = data[data['predicted'] == data['real']][data['real'] == 49]['max']\n",
    "box_false = data[data['predicted'] != data['real']][data['real'] == 49]['max']\n",
    "a.boxplot([box_true, box_false],  labels=['+', '-'])\n",
    "a.set_title('classe 49')\n",
    "    \n",
    "f.subplots_adjust(hspace=0)\n",
    "plt.show()"
   ]
  },
  {
   "cell_type": "code",
   "execution_count": null,
   "metadata": {},
   "outputs": [],
   "source": [
    "f, a = plt.subplots()\n",
    "box_true = data[data['predicted'] == data['real']][data['real'] == 87]['max']\n",
    "box_false = data[data['predicted'] != data['real']][data['real'] == 87]['max']\n",
    "a.boxplot([box_true, box_false],  labels=['+', '-'])\n",
    "a.set_title('classe 87')\n",
    "    \n",
    "f.subplots_adjust(hspace=0)\n",
    "plt.show()"
   ]
  },
  {
   "cell_type": "code",
   "execution_count": null,
   "metadata": {},
   "outputs": [],
   "source": [
    "f, a = plt.subplots()\n",
    "box_true = data[data['predicted'] == data['real']][data['real'] == 63]['max']\n",
    "box_false = data[data['predicted'] != data['real']][data['real'] == 63]['max']\n",
    "a.boxplot([box_true, box_false,  labels=['+', '-'])\n",
    "a.set_title('classe 63')\n",
    "    \n",
    "f.subplots_adjust(hspace=0)\n",
    "plt.show()"
   ]
  },
  {
   "cell_type": "code",
   "execution_count": null,
   "metadata": {},
   "outputs": [],
   "source": [
    "box_true = data[data['predicted'] == data['real']][data['real'] == 63]['max']\n",
    "box_false = data[data['predicted'] != data['real']][data['real'] == 63]['max']\n",
    "box_true"
   ]
  },
  {
   "cell_type": "code",
   "execution_count": null,
   "metadata": {},
   "outputs": [],
   "source": [
    "box_false"
   ]
  },
  {
   "cell_type": "code",
   "execution_count": null,
   "metadata": {
    "collapsed": true
   },
   "outputs": [],
   "source": []
  }
 ],
 "metadata": {
  "kernelspec": {
   "display_name": "Python 3",
   "language": "python",
   "name": "python3"
  },
  "language_info": {
   "codemirror_mode": {
    "name": "ipython",
    "version": 3
   },
   "file_extension": ".py",
   "mimetype": "text/x-python",
   "name": "python",
   "nbconvert_exporter": "python",
   "pygments_lexer": "ipython3",
   "version": "3.6.1"
  }
 },
 "nbformat": 4,
 "nbformat_minor": 2
}
