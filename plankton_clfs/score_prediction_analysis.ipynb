{
 "cells": [
  {
   "cell_type": "code",
   "execution_count": 14,
   "metadata": {
    "collapsed": true
   },
   "outputs": [],
   "source": [
    "import numpy as np\n",
    "import matplotlib.pyplot as plt\n",
    "import pandas as pd"
   ]
  },
  {
   "cell_type": "code",
   "execution_count": 16,
   "metadata": {
    "collapsed": true
   },
   "outputs": [],
   "source": [
    "#predicted_labels = np.load(\"./ndsb_dataset_nounk/predicted_labels_079_valid.npy\")\n",
    "predicted_labels = np.load(\"./experimentos/transfer_laps_cnn_079_ndsb_nounk/predicted_labels_valid_ftteste3.npy\")\n",
    "\n",
    "#predictions= np.load(\"./ndsb_dataset_nounk/complete_predictions_079_valid.npy\")\n",
    "predictions= np.load(\"./experimentos/transfer_laps_cnn_079_ndsb_nounk/complete_predictions_valid_ftteste3.npy\")\n",
    "\n",
    "#real_labels = np.load(\"./ndsb_dataset_nounk/real_labels_nounk.npy\")\n",
    "real_labels = np.load(\"./experimentos/transfer_laps_cnn_079_ndsb_nounk/real_labels_valid_ftteste3.npy\")"
   ]
  },
  {
   "cell_type": "code",
   "execution_count": 17,
   "metadata": {
    "collapsed": true
   },
   "outputs": [],
   "source": [
    "data = pd.DataFrame(predictions)\n",
    "n_raw = len(predicted_labels)"
   ]
  },
  {
   "cell_type": "code",
   "execution_count": 18,
   "metadata": {},
   "outputs": [
    {
     "data": {
      "text/plain": [
       "0.6177606177606177"
      ]
     },
     "execution_count": 18,
     "metadata": {},
     "output_type": "execute_result"
    }
   ],
   "source": [
    "n_23/n_raw"
   ]
  },
  {
   "cell_type": "code",
   "execution_count": 19,
   "metadata": {
    "collapsed": true
   },
   "outputs": [],
   "source": [
    "data['max'] = data.apply(max, axis=1)\n",
    "data['predicted'] = predicted_labels\n",
    "data['real'] = np.argmax(real_labels, axis=1)"
   ]
  },
  {
   "cell_type": "code",
   "execution_count": 20,
   "metadata": {
    "collapsed": true
   },
   "outputs": [],
   "source": [
    "classes = pd.DataFrame()\n",
    "classes['n'] = data['real'].value_counts()\n",
    "classes = classes.sort_index()"
   ]
  },
  {
   "cell_type": "code",
   "execution_count": 21,
   "metadata": {},
   "outputs": [
    {
     "name": "stderr",
     "output_type": "stream",
     "text": [
      "C:\\Users\\mariv\\Anaconda3\\lib\\site-packages\\ipykernel_launcher.py:5: UserWarning: Boolean Series key will be reindexed to match DataFrame index.\n",
      "  \"\"\"\n",
      "C:\\Users\\mariv\\Anaconda3\\lib\\site-packages\\ipykernel_launcher.py:6: UserWarning: Boolean Series key will be reindexed to match DataFrame index.\n",
      "  \n"
     ]
    }
   ],
   "source": [
    "classes['vp'] = data[data['predicted'] == data['real']]['real'].value_counts()\n",
    "classes['fn'] = 0\n",
    "classes['fp'] = 0\n",
    "for i in classes.index:\n",
    "    classes.fp[i] = data[data['predicted'] == i][data['real'] != i]['predicted'].count()\n",
    "    classes.fn[i] = data[data['predicted'] != i][data['real'] == i]['real'].count()\n",
    "classes = classes.sort_index()\n"
   ]
  },
  {
   "cell_type": "code",
   "execution_count": 22,
   "metadata": {},
   "outputs": [
    {
     "data": {
      "text/html": [
       "<div>\n",
       "<style scoped>\n",
       "    .dataframe tbody tr th:only-of-type {\n",
       "        vertical-align: middle;\n",
       "    }\n",
       "\n",
       "    .dataframe tbody tr th {\n",
       "        vertical-align: top;\n",
       "    }\n",
       "\n",
       "    .dataframe thead th {\n",
       "        text-align: right;\n",
       "    }\n",
       "</style>\n",
       "<table border=\"1\" class=\"dataframe\">\n",
       "  <thead>\n",
       "    <tr style=\"text-align: right;\">\n",
       "      <th></th>\n",
       "      <th>n</th>\n",
       "      <th>vp</th>\n",
       "      <th>fn</th>\n",
       "      <th>fp</th>\n",
       "      <th>recall</th>\n",
       "      <th>precision</th>\n",
       "      <th>f1_score</th>\n",
       "    </tr>\n",
       "  </thead>\n",
       "  <tbody>\n",
       "    <tr>\n",
       "      <th>0</th>\n",
       "      <td>21</td>\n",
       "      <td>19</td>\n",
       "      <td>2</td>\n",
       "      <td>3</td>\n",
       "      <td>0.904762</td>\n",
       "      <td>0.863636</td>\n",
       "      <td>0.883721</td>\n",
       "    </tr>\n",
       "    <tr>\n",
       "      <th>1</th>\n",
       "      <td>11</td>\n",
       "      <td>8</td>\n",
       "      <td>3</td>\n",
       "      <td>2</td>\n",
       "      <td>0.727273</td>\n",
       "      <td>0.800000</td>\n",
       "      <td>0.761905</td>\n",
       "    </tr>\n",
       "    <tr>\n",
       "      <th>2</th>\n",
       "      <td>44</td>\n",
       "      <td>43</td>\n",
       "      <td>1</td>\n",
       "      <td>5</td>\n",
       "      <td>0.977273</td>\n",
       "      <td>0.895833</td>\n",
       "      <td>0.934783</td>\n",
       "    </tr>\n",
       "    <tr>\n",
       "      <th>3</th>\n",
       "      <td>32</td>\n",
       "      <td>23</td>\n",
       "      <td>9</td>\n",
       "      <td>8</td>\n",
       "      <td>0.718750</td>\n",
       "      <td>0.741935</td>\n",
       "      <td>0.730159</td>\n",
       "    </tr>\n",
       "    <tr>\n",
       "      <th>4</th>\n",
       "      <td>11</td>\n",
       "      <td>5</td>\n",
       "      <td>6</td>\n",
       "      <td>4</td>\n",
       "      <td>0.454545</td>\n",
       "      <td>0.555556</td>\n",
       "      <td>0.500000</td>\n",
       "    </tr>\n",
       "    <tr>\n",
       "      <th>5</th>\n",
       "      <td>16</td>\n",
       "      <td>9</td>\n",
       "      <td>7</td>\n",
       "      <td>7</td>\n",
       "      <td>0.562500</td>\n",
       "      <td>0.562500</td>\n",
       "      <td>0.562500</td>\n",
       "    </tr>\n",
       "    <tr>\n",
       "      <th>6</th>\n",
       "      <td>29</td>\n",
       "      <td>27</td>\n",
       "      <td>2</td>\n",
       "      <td>3</td>\n",
       "      <td>0.931034</td>\n",
       "      <td>0.900000</td>\n",
       "      <td>0.915254</td>\n",
       "    </tr>\n",
       "    <tr>\n",
       "      <th>7</th>\n",
       "      <td>34</td>\n",
       "      <td>25</td>\n",
       "      <td>9</td>\n",
       "      <td>11</td>\n",
       "      <td>0.735294</td>\n",
       "      <td>0.694444</td>\n",
       "      <td>0.714286</td>\n",
       "    </tr>\n",
       "    <tr>\n",
       "      <th>8</th>\n",
       "      <td>27</td>\n",
       "      <td>18</td>\n",
       "      <td>9</td>\n",
       "      <td>3</td>\n",
       "      <td>0.666667</td>\n",
       "      <td>0.857143</td>\n",
       "      <td>0.750000</td>\n",
       "    </tr>\n",
       "    <tr>\n",
       "      <th>9</th>\n",
       "      <td>15</td>\n",
       "      <td>11</td>\n",
       "      <td>4</td>\n",
       "      <td>3</td>\n",
       "      <td>0.733333</td>\n",
       "      <td>0.785714</td>\n",
       "      <td>0.758621</td>\n",
       "    </tr>\n",
       "    <tr>\n",
       "      <th>10</th>\n",
       "      <td>29</td>\n",
       "      <td>22</td>\n",
       "      <td>7</td>\n",
       "      <td>8</td>\n",
       "      <td>0.758621</td>\n",
       "      <td>0.733333</td>\n",
       "      <td>0.745763</td>\n",
       "    </tr>\n",
       "    <tr>\n",
       "      <th>11</th>\n",
       "      <td>24</td>\n",
       "      <td>19</td>\n",
       "      <td>5</td>\n",
       "      <td>4</td>\n",
       "      <td>0.791667</td>\n",
       "      <td>0.826087</td>\n",
       "      <td>0.808511</td>\n",
       "    </tr>\n",
       "    <tr>\n",
       "      <th>12</th>\n",
       "      <td>32</td>\n",
       "      <td>28</td>\n",
       "      <td>4</td>\n",
       "      <td>5</td>\n",
       "      <td>0.875000</td>\n",
       "      <td>0.848485</td>\n",
       "      <td>0.861538</td>\n",
       "    </tr>\n",
       "    <tr>\n",
       "      <th>13</th>\n",
       "      <td>46</td>\n",
       "      <td>44</td>\n",
       "      <td>2</td>\n",
       "      <td>2</td>\n",
       "      <td>0.956522</td>\n",
       "      <td>0.956522</td>\n",
       "      <td>0.956522</td>\n",
       "    </tr>\n",
       "    <tr>\n",
       "      <th>14</th>\n",
       "      <td>26</td>\n",
       "      <td>21</td>\n",
       "      <td>5</td>\n",
       "      <td>3</td>\n",
       "      <td>0.807692</td>\n",
       "      <td>0.875000</td>\n",
       "      <td>0.840000</td>\n",
       "    </tr>\n",
       "    <tr>\n",
       "      <th>15</th>\n",
       "      <td>13</td>\n",
       "      <td>10</td>\n",
       "      <td>3</td>\n",
       "      <td>0</td>\n",
       "      <td>0.769231</td>\n",
       "      <td>1.000000</td>\n",
       "      <td>0.869565</td>\n",
       "    </tr>\n",
       "    <tr>\n",
       "      <th>16</th>\n",
       "      <td>16</td>\n",
       "      <td>13</td>\n",
       "      <td>3</td>\n",
       "      <td>0</td>\n",
       "      <td>0.812500</td>\n",
       "      <td>1.000000</td>\n",
       "      <td>0.896552</td>\n",
       "    </tr>\n",
       "    <tr>\n",
       "      <th>17</th>\n",
       "      <td>55</td>\n",
       "      <td>52</td>\n",
       "      <td>3</td>\n",
       "      <td>4</td>\n",
       "      <td>0.945455</td>\n",
       "      <td>0.928571</td>\n",
       "      <td>0.936937</td>\n",
       "    </tr>\n",
       "    <tr>\n",
       "      <th>18</th>\n",
       "      <td>12</td>\n",
       "      <td>11</td>\n",
       "      <td>1</td>\n",
       "      <td>5</td>\n",
       "      <td>0.916667</td>\n",
       "      <td>0.687500</td>\n",
       "      <td>0.785714</td>\n",
       "    </tr>\n",
       "    <tr>\n",
       "      <th>19</th>\n",
       "      <td>25</td>\n",
       "      <td>25</td>\n",
       "      <td>0</td>\n",
       "      <td>5</td>\n",
       "      <td>1.000000</td>\n",
       "      <td>0.833333</td>\n",
       "      <td>0.909091</td>\n",
       "    </tr>\n",
       "  </tbody>\n",
       "</table>\n",
       "</div>"
      ],
      "text/plain": [
       "     n  vp  fn  fp    recall  precision  f1_score\n",
       "0   21  19   2   3  0.904762   0.863636  0.883721\n",
       "1   11   8   3   2  0.727273   0.800000  0.761905\n",
       "2   44  43   1   5  0.977273   0.895833  0.934783\n",
       "3   32  23   9   8  0.718750   0.741935  0.730159\n",
       "4   11   5   6   4  0.454545   0.555556  0.500000\n",
       "5   16   9   7   7  0.562500   0.562500  0.562500\n",
       "6   29  27   2   3  0.931034   0.900000  0.915254\n",
       "7   34  25   9  11  0.735294   0.694444  0.714286\n",
       "8   27  18   9   3  0.666667   0.857143  0.750000\n",
       "9   15  11   4   3  0.733333   0.785714  0.758621\n",
       "10  29  22   7   8  0.758621   0.733333  0.745763\n",
       "11  24  19   5   4  0.791667   0.826087  0.808511\n",
       "12  32  28   4   5  0.875000   0.848485  0.861538\n",
       "13  46  44   2   2  0.956522   0.956522  0.956522\n",
       "14  26  21   5   3  0.807692   0.875000  0.840000\n",
       "15  13  10   3   0  0.769231   1.000000  0.869565\n",
       "16  16  13   3   0  0.812500   1.000000  0.896552\n",
       "17  55  52   3   4  0.945455   0.928571  0.936937\n",
       "18  12  11   1   5  0.916667   0.687500  0.785714\n",
       "19  25  25   0   5  1.000000   0.833333  0.909091"
      ]
     },
     "execution_count": 22,
     "metadata": {},
     "output_type": "execute_result"
    }
   ],
   "source": [
    "classes['recall'] = classes['vp']/(classes['vp'] + classes['fn'])\n",
    "classes['precision'] = classes['vp']/(classes['vp'] + classes['fp'])\n",
    "classes['f1_score'] = (classes['recall']*classes['precision']*2)/(classes['recall']+classes['precision'])\n",
    "classes"
   ]
  },
  {
   "cell_type": "code",
   "execution_count": 23,
   "metadata": {},
   "outputs": [
    {
     "data": {
      "image/png": "[encoded data removed]",
      "text/plain": [
       "<Figure size 432x288 with 1 Axes>"
      ]
     },
     "metadata": {},
     "output_type": "display_data"
    }
   ],
   "source": [
    "%matplotlib inline\n",
    "\n",
    "f,a = plt.subplots()\n",
    "\n",
    "aux = np.array(classes['f1_score'])\n",
    "aux2 = np.array(classes.index)\n",
    "\n",
    "a.bar(x=aux2, height=aux)\n",
    "\n",
    "plt.show()"
   ]
  },
  {
   "cell_type": "code",
   "execution_count": 24,
   "metadata": {},
   "outputs": [
    {
     "name": "stderr",
     "output_type": "stream",
     "text": [
      "C:\\Users\\mariv\\Anaconda3\\lib\\site-packages\\numpy\\core\\fromnumeric.py:52: FutureWarning: reshape is deprecated and will raise in a subsequent release. Please use .values.reshape(...) instead\n",
      "  return getattr(obj, method)(*args, **kwds)\n"
     ]
    },
    {
     "data": {
      "image/png": "[encoded data removed]",
      "text/plain": [
       "<Figure size 432x288 with 1 Axes>"
      ]
     },
     "metadata": {},
     "output_type": "display_data"
    }
   ],
   "source": [
    "%matplotlib inline\n",
    "f, a = plt.subplots()\n",
    "box_true = data[data['predicted'] == data['real']]['max']\n",
    "box_false = data[data['predicted'] != data['real']]['max']\n",
    "a.boxplot([box_true, box_false],  labels=['+', '-'])\n",
    "a.set_title('scores')\n",
    "    \n",
    "f.subplots_adjust(hspace=0)\n",
    "plt.show()\n"
   ]
  },
  {
   "cell_type": "code",
   "execution_count": 28,
   "metadata": {},
   "outputs": [
    {
     "name": "stderr",
     "output_type": "stream",
     "text": [
      "C:\\Users\\mariv\\Anaconda3\\lib\\site-packages\\ipykernel_launcher.py:7: UserWarning: Boolean Series key will be reindexed to match DataFrame index.\n",
      "  import sys\n",
      "C:\\Users\\mariv\\Anaconda3\\lib\\site-packages\\ipykernel_launcher.py:8: UserWarning: Boolean Series key will be reindexed to match DataFrame index.\n",
      "  \n",
      "C:\\Users\\mariv\\Anaconda3\\lib\\site-packages\\numpy\\core\\fromnumeric.py:52: FutureWarning: reshape is deprecated and will raise in a subsequent release. Please use .values.reshape(...) instead\n",
      "  return getattr(obj, method)(*args, **kwds)\n"
     ]
    },
    {
     "name": "stdout",
     "output_type": "stream",
     "text": [
      "loading 0\n",
      "loading 1\n",
      "loading 2\n",
      "loading 3\n",
      "loading 4\n",
      "loading 5\n",
      "loading 6\n",
      "loading 7\n",
      "loading 8\n",
      "loading 9\n",
      "loading 10\n",
      "loading 11\n",
      "loading 12\n",
      "loading 13\n",
      "loading 14\n",
      "loading 15\n",
      "loading 16\n",
      "loading 17\n",
      "loading 18\n",
      "loading 19\n"
     ]
    },
    {
     "data": {
      "image/png": "[encoded data removed]",
      "text/plain": [
       "<Figure size 432x288 with 20 Axes>"
      ]
     },
     "metadata": {},
     "output_type": "display_data"
    }
   ],
   "source": [
    "f, a = plt.subplots(1,20, sharex=False, sharey=True)\n",
    "\n",
    "colors = ['blue', 'red']\n",
    "\n",
    "for i in range(20):\n",
    "    j = i\n",
    "    box_true = data[data['predicted'] == j][data['real'] == j]['max']\n",
    "    box_false = data[data['predicted'] != j][data['real'] == j]['max']\n",
    "    print(\"loading\", j)\n",
    "    bplot = a[i].boxplot([box_true, box_false], widths=0.8, labels=['+', '-'],patch_artist=True)\n",
    "    a[i].set_title(j)\n",
    "\n",
    "    for patch, color in zip(bplot['boxes'], colors):\n",
    "        patch.set_facecolor(color)\n",
    "        \n",
    "f.subplots_adjust(hspace=0)\n",
    "f.suptitle('score')\n",
    "plt.show()"
   ]
  },
  {
   "cell_type": "code",
   "execution_count": 26,
   "metadata": {},
   "outputs": [
    {
     "name": "stderr",
     "output_type": "stream",
     "text": [
      "C:\\Users\\mariv\\Anaconda3\\lib\\site-packages\\ipykernel_launcher.py:2: UserWarning: Boolean Series key will be reindexed to match DataFrame index.\n",
      "  \n",
      "C:\\Users\\mariv\\Anaconda3\\lib\\site-packages\\ipykernel_launcher.py:3: UserWarning: Boolean Series key will be reindexed to match DataFrame index.\n",
      "  This is separate from the ipykernel package so we can avoid doing imports until\n"
     ]
    },
    {
     "data": {
      "image/png": "[encoded data removed]",
      "text/plain": [
       "<Figure size 432x288 with 1 Axes>"
      ]
     },
     "metadata": {},
     "output_type": "display_data"
    }
   ],
   "source": [
    "f, a = plt.subplots()\n",
    "box_true = data[data['predicted'] == data['real']][data['real'] == 85]['max']\n",
    "box_false = data[data['predicted'] != data['real']][data['real'] == 85]['max']\n",
    "a.boxplot([box_true, box_false],  labels=['+', '-'])\n",
    "a.set_title('classe 85')\n",
    "    \n",
    "f.subplots_adjust(hspace=0)\n",
    "plt.show()\n"
   ]
  },
  {
   "cell_type": "code",
   "execution_count": 27,
   "metadata": {},
   "outputs": [
    {
     "name": "stderr",
     "output_type": "stream",
     "text": [
      "C:\\Users\\mariv\\Anaconda3\\lib\\site-packages\\ipykernel_launcher.py:2: UserWarning: Boolean Series key will be reindexed to match DataFrame index.\n",
      "  \n",
      "C:\\Users\\mariv\\Anaconda3\\lib\\site-packages\\ipykernel_launcher.py:3: UserWarning: Boolean Series key will be reindexed to match DataFrame index.\n",
      "  This is separate from the ipykernel package so we can avoid doing imports until\n"
     ]
    },
    {
     "data": {
      "image/png": "[encoded data removed]",
      "text/plain": [
       "<Figure size 432x288 with 1 Axes>"
      ]
     },
     "metadata": {},
     "output_type": "display_data"
    }
   ],
   "source": [
    "f, a = plt.subplots()\n",
    "box_true = data[data['predicted'] == data['real']][data['real'] == 110]['max']\n",
    "box_false = data[data['predicted'] != data['real']][data['real'] == 110]['max']\n",
    "a.boxplot([box_true, box_false],  labels=['+', '-'])\n",
    "a.set_title('classe 110')\n",
    "    \n",
    "f.subplots_adjust(hspace=0)\n",
    "plt.show()"
   ]
  },
  {
   "cell_type": "code",
   "execution_count": 13,
   "metadata": {},
   "outputs": [
    {
     "name": "stderr",
     "output_type": "stream",
     "text": [
      "C:\\Users\\mariv\\Anaconda3\\lib\\site-packages\\ipykernel_launcher.py:2: UserWarning: Boolean Series key will be reindexed to match DataFrame index.\n",
      "  \n",
      "C:\\Users\\mariv\\Anaconda3\\lib\\site-packages\\ipykernel_launcher.py:3: UserWarning: Boolean Series key will be reindexed to match DataFrame index.\n",
      "  This is separate from the ipykernel package so we can avoid doing imports until\n",
      "C:\\Users\\mariv\\Anaconda3\\lib\\site-packages\\numpy\\core\\fromnumeric.py:52: FutureWarning: reshape is deprecated and will raise in a subsequent release. Please use .values.reshape(...) instead\n",
      "  return getattr(obj, method)(*args, **kwds)\n"
     ]
    },
    {
     "data": {
      "image/png": "[encoded data removed]",
      "text/plain": [
       "<Figure size 432x288 with 1 Axes>"
      ]
     },
     "metadata": {},
     "output_type": "display_data"
    }
   ],
   "source": [
    "f, a = plt.subplots()\n",
    "box_true = data[data['predicted'] == data['real']][data['real'] == 28]['max']\n",
    "box_false = data[data['predicted'] != data['real']][data['real'] == 28]['max']\n",
    "a.boxplot([box_true, box_false],  labels=['+', '-'])\n",
    "a.set_title('classe 28')\n",
    "    \n",
    "f.subplots_adjust(hspace=0)\n",
    "plt.show()"
   ]
  },
  {
   "cell_type": "code",
   "execution_count": 14,
   "metadata": {},
   "outputs": [
    {
     "name": "stderr",
     "output_type": "stream",
     "text": [
      "C:\\Users\\mariv\\Anaconda3\\lib\\site-packages\\ipykernel_launcher.py:2: UserWarning: Boolean Series key will be reindexed to match DataFrame index.\n",
      "  \n",
      "C:\\Users\\mariv\\Anaconda3\\lib\\site-packages\\ipykernel_launcher.py:3: UserWarning: Boolean Series key will be reindexed to match DataFrame index.\n",
      "  This is separate from the ipykernel package so we can avoid doing imports until\n",
      "C:\\Users\\mariv\\Anaconda3\\lib\\site-packages\\numpy\\core\\fromnumeric.py:52: FutureWarning: reshape is deprecated and will raise in a subsequent release. Please use .values.reshape(...) instead\n",
      "  return getattr(obj, method)(*args, **kwds)\n"
     ]
    },
    {
     "data": {
      "image/png": "[encoded data removed]",
      "text/plain": [
       "<Figure size 432x288 with 1 Axes>"
      ]
     },
     "metadata": {},
     "output_type": "display_data"
    }
   ],
   "source": [
    "f, a = plt.subplots()\n",
    "box_true = data[data['predicted'] == data['real']][data['real'] == 55]['max']\n",
    "box_false = data[data['predicted'] != data['real']][data['real'] == 55]['max']\n",
    "a.boxplot([box_true, box_false],  labels=['+', '-'])\n",
    "a.set_title('classe 55')\n",
    "    \n",
    "f.subplots_adjust(hspace=0)\n",
    "plt.show()"
   ]
  },
  {
   "cell_type": "code",
   "execution_count": 15,
   "metadata": {},
   "outputs": [
    {
     "name": "stderr",
     "output_type": "stream",
     "text": [
      "C:\\Users\\mariv\\Anaconda3\\lib\\site-packages\\ipykernel_launcher.py:2: UserWarning: Boolean Series key will be reindexed to match DataFrame index.\n",
      "  \n",
      "C:\\Users\\mariv\\Anaconda3\\lib\\site-packages\\ipykernel_launcher.py:3: UserWarning: Boolean Series key will be reindexed to match DataFrame index.\n",
      "  This is separate from the ipykernel package so we can avoid doing imports until\n",
      "C:\\Users\\mariv\\Anaconda3\\lib\\site-packages\\numpy\\core\\fromnumeric.py:52: FutureWarning: reshape is deprecated and will raise in a subsequent release. Please use .values.reshape(...) instead\n",
      "  return getattr(obj, method)(*args, **kwds)\n"
     ]
    },
    {
     "data": {
      "image/png": "[encoded data removed]",
      "text/plain": [
       "<Figure size 432x288 with 1 Axes>"
      ]
     },
     "metadata": {},
     "output_type": "display_data"
    }
   ],
   "source": [
    "f, a = plt.subplots()\n",
    "box_true = data[data['predicted'] == data['real']][data['real'] == 49]['max']\n",
    "box_false = data[data['predicted'] != data['real']][data['real'] == 49]['max']\n",
    "a.boxplot([box_true, box_false],  labels=['+', '-'])\n",
    "a.set_title('classe 49')\n",
    "    \n",
    "f.subplots_adjust(hspace=0)\n",
    "plt.show()"
   ]
  },
  {
   "cell_type": "code",
   "execution_count": 16,
   "metadata": {},
   "outputs": [
    {
     "name": "stderr",
     "output_type": "stream",
     "text": [
      "C:\\Users\\mariv\\Anaconda3\\lib\\site-packages\\ipykernel_launcher.py:2: UserWarning: Boolean Series key will be reindexed to match DataFrame index.\n",
      "  \n",
      "C:\\Users\\mariv\\Anaconda3\\lib\\site-packages\\ipykernel_launcher.py:3: UserWarning: Boolean Series key will be reindexed to match DataFrame index.\n",
      "  This is separate from the ipykernel package so we can avoid doing imports until\n",
      "C:\\Users\\mariv\\Anaconda3\\lib\\site-packages\\numpy\\core\\fromnumeric.py:52: FutureWarning: reshape is deprecated and will raise in a subsequent release. Please use .values.reshape(...) instead\n",
      "  return getattr(obj, method)(*args, **kwds)\n"
     ]
    },
    {
     "data": {
      "image/png": "[encoded data removed]",
      "text/plain": [
       "<Figure size 432x288 with 1 Axes>"
      ]
     },
     "metadata": {},
     "output_type": "display_data"
    }
   ],
   "source": [
    "f, a = plt.subplots()\n",
    "box_true = data[data['predicted'] == data['real']][data['real'] == 87]['max']\n",
    "box_false = data[data['predicted'] != data['real']][data['real'] == 87]['max']\n",
    "a.boxplot([box_true, box_false],  labels=['+', '-'])\n",
    "a.set_title('classe 87')\n",
    "    \n",
    "f.subplots_adjust(hspace=0)\n",
    "plt.show()"
   ]
  },
  {
   "cell_type": "code",
   "execution_count": 19,
   "metadata": {},
   "outputs": [
    {
     "name": "stderr",
     "output_type": "stream",
     "text": [
      "C:\\Users\\mariv\\Anaconda3\\lib\\site-packages\\ipykernel_launcher.py:2: UserWarning: Boolean Series key will be reindexed to match DataFrame index.\n",
      "  \n",
      "C:\\Users\\mariv\\Anaconda3\\lib\\site-packages\\ipykernel_launcher.py:3: UserWarning: Boolean Series key will be reindexed to match DataFrame index.\n",
      "  This is separate from the ipykernel package so we can avoid doing imports until\n"
     ]
    },
    {
     "ename": "KeyError",
     "evalue": "0",
     "output_type": "error",
     "traceback": [
      "\u001b[1;31m---------------------------------------------------------------------------\u001b[0m",
      "\u001b[1;31mKeyError\u001b[0m                                  Traceback (most recent call last)",
      "\u001b[1;32m<ipython-input-19-a95d079113a3>\u001b[0m in \u001b[0;36m<module>\u001b[1;34m()\u001b[0m\n\u001b[0;32m      2\u001b[0m \u001b[0mbox_true\u001b[0m \u001b[1;33m=\u001b[0m \u001b[0mdata\u001b[0m\u001b[1;33m[\u001b[0m\u001b[0mdata\u001b[0m\u001b[1;33m[\u001b[0m\u001b[1;34m'predicted'\u001b[0m\u001b[1;33m]\u001b[0m \u001b[1;33m==\u001b[0m \u001b[0mdata\u001b[0m\u001b[1;33m[\u001b[0m\u001b[1;34m'real'\u001b[0m\u001b[1;33m]\u001b[0m\u001b[1;33m]\u001b[0m\u001b[1;33m[\u001b[0m\u001b[0mdata\u001b[0m\u001b[1;33m[\u001b[0m\u001b[1;34m'real'\u001b[0m\u001b[1;33m]\u001b[0m \u001b[1;33m==\u001b[0m \u001b[1;36m63\u001b[0m\u001b[1;33m]\u001b[0m\u001b[1;33m[\u001b[0m\u001b[1;34m'max'\u001b[0m\u001b[1;33m]\u001b[0m\u001b[1;33m\u001b[0m\u001b[0m\n\u001b[0;32m      3\u001b[0m \u001b[0mbox_false\u001b[0m \u001b[1;33m=\u001b[0m \u001b[0mdata\u001b[0m\u001b[1;33m[\u001b[0m\u001b[0mdata\u001b[0m\u001b[1;33m[\u001b[0m\u001b[1;34m'predicted'\u001b[0m\u001b[1;33m]\u001b[0m \u001b[1;33m!=\u001b[0m \u001b[0mdata\u001b[0m\u001b[1;33m[\u001b[0m\u001b[1;34m'real'\u001b[0m\u001b[1;33m]\u001b[0m\u001b[1;33m]\u001b[0m\u001b[1;33m[\u001b[0m\u001b[0mdata\u001b[0m\u001b[1;33m[\u001b[0m\u001b[1;34m'real'\u001b[0m\u001b[1;33m]\u001b[0m \u001b[1;33m==\u001b[0m \u001b[1;36m63\u001b[0m\u001b[1;33m]\u001b[0m\u001b[1;33m[\u001b[0m\u001b[1;34m'max'\u001b[0m\u001b[1;33m]\u001b[0m\u001b[1;33m\u001b[0m\u001b[0m\n\u001b[1;32m----> 4\u001b[1;33m \u001b[0ma\u001b[0m\u001b[1;33m.\u001b[0m\u001b[0mboxplot\u001b[0m\u001b[1;33m(\u001b[0m\u001b[1;33m[\u001b[0m\u001b[0mbox_true\u001b[0m\u001b[1;33m,\u001b[0m \u001b[0mbox_false\u001b[0m\u001b[1;33m]\u001b[0m\u001b[1;33m,\u001b[0m  \u001b[0mlabels\u001b[0m\u001b[1;33m=\u001b[0m\u001b[1;33m[\u001b[0m\u001b[1;34m'+'\u001b[0m\u001b[1;33m,\u001b[0m \u001b[1;34m'-'\u001b[0m\u001b[1;33m]\u001b[0m\u001b[1;33m)\u001b[0m\u001b[1;33m\u001b[0m\u001b[0m\n\u001b[0m\u001b[0;32m      5\u001b[0m \u001b[0ma\u001b[0m\u001b[1;33m.\u001b[0m\u001b[0mset_title\u001b[0m\u001b[1;33m(\u001b[0m\u001b[1;34m'classe 63'\u001b[0m\u001b[1;33m)\u001b[0m\u001b[1;33m\u001b[0m\u001b[0m\n\u001b[0;32m      6\u001b[0m \u001b[1;33m\u001b[0m\u001b[0m\n",
      "\u001b[1;32mC:\\Users\\mariv\\Anaconda3\\lib\\site-packages\\matplotlib\\__init__.py\u001b[0m in \u001b[0;36minner\u001b[1;34m(ax, *args, **kwargs)\u001b[0m\n\u001b[0;32m   1853\u001b[0m                         \u001b[1;34m\"the Matplotlib list!)\"\u001b[0m \u001b[1;33m%\u001b[0m \u001b[1;33m(\u001b[0m\u001b[0mlabel_namer\u001b[0m\u001b[1;33m,\u001b[0m \u001b[0mfunc\u001b[0m\u001b[1;33m.\u001b[0m\u001b[0m__name__\u001b[0m\u001b[1;33m)\u001b[0m\u001b[1;33m,\u001b[0m\u001b[1;33m\u001b[0m\u001b[0m\n\u001b[0;32m   1854\u001b[0m                         RuntimeWarning, stacklevel=2)\n\u001b[1;32m-> 1855\u001b[1;33m             \u001b[1;32mreturn\u001b[0m \u001b[0mfunc\u001b[0m\u001b[1;33m(\u001b[0m\u001b[0max\u001b[0m\u001b[1;33m,\u001b[0m \u001b[1;33m*\u001b[0m\u001b[0margs\u001b[0m\u001b[1;33m,\u001b[0m \u001b[1;33m**\u001b[0m\u001b[0mkwargs\u001b[0m\u001b[1;33m)\u001b[0m\u001b[1;33m\u001b[0m\u001b[0m\n\u001b[0m\u001b[0;32m   1856\u001b[0m \u001b[1;33m\u001b[0m\u001b[0m\n\u001b[0;32m   1857\u001b[0m         inner.__doc__ = _add_data_doc(inner.__doc__,\n",
      "\u001b[1;32mC:\\Users\\mariv\\Anaconda3\\lib\\site-packages\\matplotlib\\axes\\_axes.py\u001b[0m in \u001b[0;36mboxplot\u001b[1;34m(self, x, notch, sym, vert, whis, positions, widths, patch_artist, bootstrap, usermedians, conf_intervals, meanline, showmeans, showcaps, showbox, showfliers, boxprops, labels, flierprops, medianprops, meanprops, capprops, whiskerprops, manage_xticks, autorange, zorder)\u001b[0m\n\u001b[0;32m   3555\u001b[0m \u001b[1;33m\u001b[0m\u001b[0m\n\u001b[0;32m   3556\u001b[0m         bxpstats = cbook.boxplot_stats(x, whis=whis, bootstrap=bootstrap,\n\u001b[1;32m-> 3557\u001b[1;33m                                        labels=labels, autorange=autorange)\n\u001b[0m\u001b[0;32m   3558\u001b[0m         \u001b[1;32mif\u001b[0m \u001b[0mnotch\u001b[0m \u001b[1;32mis\u001b[0m \u001b[1;32mNone\u001b[0m\u001b[1;33m:\u001b[0m\u001b[1;33m\u001b[0m\u001b[0m\n\u001b[0;32m   3559\u001b[0m             \u001b[0mnotch\u001b[0m \u001b[1;33m=\u001b[0m \u001b[0mrcParams\u001b[0m\u001b[1;33m[\u001b[0m\u001b[1;34m'boxplot.notch'\u001b[0m\u001b[1;33m]\u001b[0m\u001b[1;33m\u001b[0m\u001b[0m\n",
      "\u001b[1;32mC:\\Users\\mariv\\Anaconda3\\lib\\site-packages\\matplotlib\\cbook\\__init__.py\u001b[0m in \u001b[0;36mboxplot_stats\u001b[1;34m(X, whis, bootstrap, labels, autorange)\u001b[0m\n\u001b[0;32m   1799\u001b[0m \u001b[1;33m\u001b[0m\u001b[0m\n\u001b[0;32m   1800\u001b[0m     \u001b[1;31m# convert X to a list of lists\u001b[0m\u001b[1;33m\u001b[0m\u001b[1;33m\u001b[0m\u001b[0m\n\u001b[1;32m-> 1801\u001b[1;33m     \u001b[0mX\u001b[0m \u001b[1;33m=\u001b[0m \u001b[0m_reshape_2D\u001b[0m\u001b[1;33m(\u001b[0m\u001b[0mX\u001b[0m\u001b[1;33m,\u001b[0m \u001b[1;34m\"X\"\u001b[0m\u001b[1;33m)\u001b[0m\u001b[1;33m\u001b[0m\u001b[0m\n\u001b[0m\u001b[0;32m   1802\u001b[0m \u001b[1;33m\u001b[0m\u001b[0m\n\u001b[0;32m   1803\u001b[0m     \u001b[0mncols\u001b[0m \u001b[1;33m=\u001b[0m \u001b[0mlen\u001b[0m\u001b[1;33m(\u001b[0m\u001b[0mX\u001b[0m\u001b[1;33m)\u001b[0m\u001b[1;33m\u001b[0m\u001b[0m\n",
      "\u001b[1;32mC:\\Users\\mariv\\Anaconda3\\lib\\site-packages\\matplotlib\\cbook\\__init__.py\u001b[0m in \u001b[0;36m_reshape_2D\u001b[1;34m(X, name)\u001b[0m\n\u001b[0;32m   2078\u001b[0m     \"\"\"\n\u001b[0;32m   2079\u001b[0m     \u001b[1;31m# Iterate over columns for ndarrays, over rows otherwise.\u001b[0m\u001b[1;33m\u001b[0m\u001b[1;33m\u001b[0m\u001b[0m\n\u001b[1;32m-> 2080\u001b[1;33m     \u001b[0mX\u001b[0m \u001b[1;33m=\u001b[0m \u001b[0mnp\u001b[0m\u001b[1;33m.\u001b[0m\u001b[0matleast_1d\u001b[0m\u001b[1;33m(\u001b[0m\u001b[0mX\u001b[0m\u001b[1;33m.\u001b[0m\u001b[0mT\u001b[0m \u001b[1;32mif\u001b[0m \u001b[0misinstance\u001b[0m\u001b[1;33m(\u001b[0m\u001b[0mX\u001b[0m\u001b[1;33m,\u001b[0m \u001b[0mnp\u001b[0m\u001b[1;33m.\u001b[0m\u001b[0mndarray\u001b[0m\u001b[1;33m)\u001b[0m \u001b[1;32melse\u001b[0m \u001b[0mnp\u001b[0m\u001b[1;33m.\u001b[0m\u001b[0masarray\u001b[0m\u001b[1;33m(\u001b[0m\u001b[0mX\u001b[0m\u001b[1;33m)\u001b[0m\u001b[1;33m)\u001b[0m\u001b[1;33m\u001b[0m\u001b[0m\n\u001b[0m\u001b[0;32m   2081\u001b[0m     \u001b[1;32mif\u001b[0m \u001b[0mX\u001b[0m\u001b[1;33m.\u001b[0m\u001b[0mndim\u001b[0m \u001b[1;33m==\u001b[0m \u001b[1;36m1\u001b[0m \u001b[1;32mand\u001b[0m \u001b[0mX\u001b[0m\u001b[1;33m.\u001b[0m\u001b[0mdtype\u001b[0m\u001b[1;33m.\u001b[0m\u001b[0mtype\u001b[0m \u001b[1;33m!=\u001b[0m \u001b[0mnp\u001b[0m\u001b[1;33m.\u001b[0m\u001b[0mobject_\u001b[0m\u001b[1;33m:\u001b[0m\u001b[1;33m\u001b[0m\u001b[0m\n\u001b[0;32m   2082\u001b[0m         \u001b[1;31m# 1D array of scalars: directly return it.\u001b[0m\u001b[1;33m\u001b[0m\u001b[1;33m\u001b[0m\u001b[0m\n",
      "\u001b[1;32mC:\\Users\\mariv\\Anaconda3\\lib\\site-packages\\numpy\\core\\numeric.py\u001b[0m in \u001b[0;36masarray\u001b[1;34m(a, dtype, order)\u001b[0m\n\u001b[0;32m    490\u001b[0m \u001b[1;33m\u001b[0m\u001b[0m\n\u001b[0;32m    491\u001b[0m     \"\"\"\n\u001b[1;32m--> 492\u001b[1;33m     \u001b[1;32mreturn\u001b[0m \u001b[0marray\u001b[0m\u001b[1;33m(\u001b[0m\u001b[0ma\u001b[0m\u001b[1;33m,\u001b[0m \u001b[0mdtype\u001b[0m\u001b[1;33m,\u001b[0m \u001b[0mcopy\u001b[0m\u001b[1;33m=\u001b[0m\u001b[1;32mFalse\u001b[0m\u001b[1;33m,\u001b[0m \u001b[0morder\u001b[0m\u001b[1;33m=\u001b[0m\u001b[0morder\u001b[0m\u001b[1;33m)\u001b[0m\u001b[1;33m\u001b[0m\u001b[0m\n\u001b[0m\u001b[0;32m    493\u001b[0m \u001b[1;33m\u001b[0m\u001b[0m\n\u001b[0;32m    494\u001b[0m \u001b[1;33m\u001b[0m\u001b[0m\n",
      "\u001b[1;32mC:\\Users\\mariv\\Anaconda3\\lib\\site-packages\\pandas\\core\\series.py\u001b[0m in \u001b[0;36m__getitem__\u001b[1;34m(self, key)\u001b[0m\n\u001b[0;32m    621\u001b[0m         \u001b[0mkey\u001b[0m \u001b[1;33m=\u001b[0m \u001b[0mcom\u001b[0m\u001b[1;33m.\u001b[0m\u001b[0m_apply_if_callable\u001b[0m\u001b[1;33m(\u001b[0m\u001b[0mkey\u001b[0m\u001b[1;33m,\u001b[0m \u001b[0mself\u001b[0m\u001b[1;33m)\u001b[0m\u001b[1;33m\u001b[0m\u001b[0m\n\u001b[0;32m    622\u001b[0m         \u001b[1;32mtry\u001b[0m\u001b[1;33m:\u001b[0m\u001b[1;33m\u001b[0m\u001b[0m\n\u001b[1;32m--> 623\u001b[1;33m             \u001b[0mresult\u001b[0m \u001b[1;33m=\u001b[0m \u001b[0mself\u001b[0m\u001b[1;33m.\u001b[0m\u001b[0mindex\u001b[0m\u001b[1;33m.\u001b[0m\u001b[0mget_value\u001b[0m\u001b[1;33m(\u001b[0m\u001b[0mself\u001b[0m\u001b[1;33m,\u001b[0m \u001b[0mkey\u001b[0m\u001b[1;33m)\u001b[0m\u001b[1;33m\u001b[0m\u001b[0m\n\u001b[0m\u001b[0;32m    624\u001b[0m \u001b[1;33m\u001b[0m\u001b[0m\n\u001b[0;32m    625\u001b[0m             \u001b[1;32mif\u001b[0m \u001b[1;32mnot\u001b[0m \u001b[0mis_scalar\u001b[0m\u001b[1;33m(\u001b[0m\u001b[0mresult\u001b[0m\u001b[1;33m)\u001b[0m\u001b[1;33m:\u001b[0m\u001b[1;33m\u001b[0m\u001b[0m\n",
      "\u001b[1;32mC:\\Users\\mariv\\Anaconda3\\lib\\site-packages\\pandas\\core\\indexes\\base.py\u001b[0m in \u001b[0;36mget_value\u001b[1;34m(self, series, key)\u001b[0m\n\u001b[0;32m   2558\u001b[0m         \u001b[1;32mtry\u001b[0m\u001b[1;33m:\u001b[0m\u001b[1;33m\u001b[0m\u001b[0m\n\u001b[0;32m   2559\u001b[0m             return self._engine.get_value(s, k,\n\u001b[1;32m-> 2560\u001b[1;33m                                           tz=getattr(series.dtype, 'tz', None))\n\u001b[0m\u001b[0;32m   2561\u001b[0m         \u001b[1;32mexcept\u001b[0m \u001b[0mKeyError\u001b[0m \u001b[1;32mas\u001b[0m \u001b[0me1\u001b[0m\u001b[1;33m:\u001b[0m\u001b[1;33m\u001b[0m\u001b[0m\n\u001b[0;32m   2562\u001b[0m             \u001b[1;32mif\u001b[0m \u001b[0mlen\u001b[0m\u001b[1;33m(\u001b[0m\u001b[0mself\u001b[0m\u001b[1;33m)\u001b[0m \u001b[1;33m>\u001b[0m \u001b[1;36m0\u001b[0m \u001b[1;32mand\u001b[0m \u001b[0mself\u001b[0m\u001b[1;33m.\u001b[0m\u001b[0minferred_type\u001b[0m \u001b[1;32min\u001b[0m \u001b[1;33m[\u001b[0m\u001b[1;34m'integer'\u001b[0m\u001b[1;33m,\u001b[0m \u001b[1;34m'boolean'\u001b[0m\u001b[1;33m]\u001b[0m\u001b[1;33m:\u001b[0m\u001b[1;33m\u001b[0m\u001b[0m\n",
      "\u001b[1;32mpandas/_libs/index.pyx\u001b[0m in \u001b[0;36mpandas._libs.index.IndexEngine.get_value\u001b[1;34m()\u001b[0m\n",
      "\u001b[1;32mpandas/_libs/index.pyx\u001b[0m in \u001b[0;36mpandas._libs.index.IndexEngine.get_value\u001b[1;34m()\u001b[0m\n",
      "\u001b[1;32mpandas/_libs/index.pyx\u001b[0m in \u001b[0;36mpandas._libs.index.IndexEngine.get_loc\u001b[1;34m()\u001b[0m\n",
      "\u001b[1;32mpandas/_libs/hashtable_class_helper.pxi\u001b[0m in \u001b[0;36mpandas._libs.hashtable.Int64HashTable.get_item\u001b[1;34m()\u001b[0m\n",
      "\u001b[1;32mpandas/_libs/hashtable_class_helper.pxi\u001b[0m in \u001b[0;36mpandas._libs.hashtable.Int64HashTable.get_item\u001b[1;34m()\u001b[0m\n",
      "\u001b[1;31mKeyError\u001b[0m: 0"
     ]
    },
    {
     "data": {
      "image/png": "[encoded data removed]",
      "text/plain": [
       "<Figure size 432x288 with 1 Axes>"
      ]
     },
     "metadata": {},
     "output_type": "display_data"
    }
   ],
   "source": [
    "f, a = plt.subplots()\n",
    "box_true = data[data['predicted'] == data['real']][data['real'] == 63]['max']\n",
    "box_false = data[data['predicted'] != data['real']][data['real'] == 63]['max']\n",
    "a.boxplot([box_true, box_false],  labels=['+', '-'])\n",
    "a.set_title('classe 63')\n",
    "    \n",
    "f.subplots_adjust(hspace=0)\n",
    "plt.show()"
   ]
  },
  {
   "cell_type": "code",
   "execution_count": 8,
   "metadata": {},
   "outputs": [
    {
     "data": {
      "text/html": [
       "<div>\n",
       "<style scoped>\n",
       "    .dataframe tbody tr th:only-of-type {\n",
       "        vertical-align: middle;\n",
       "    }\n",
       "\n",
       "    .dataframe tbody tr th {\n",
       "        vertical-align: top;\n",
       "    }\n",
       "\n",
       "    .dataframe thead th {\n",
       "        text-align: right;\n",
       "    }\n",
       "</style>\n",
       "<table border=\"1\" class=\"dataframe\">\n",
       "  <thead>\n",
       "    <tr style=\"text-align: right;\">\n",
       "      <th></th>\n",
       "      <th>0</th>\n",
       "      <th>1</th>\n",
       "      <th>2</th>\n",
       "      <th>3</th>\n",
       "      <th>4</th>\n",
       "      <th>5</th>\n",
       "      <th>6</th>\n",
       "      <th>7</th>\n",
       "      <th>8</th>\n",
       "      <th>9</th>\n",
       "      <th>...</th>\n",
       "      <th>112</th>\n",
       "      <th>113</th>\n",
       "      <th>114</th>\n",
       "      <th>115</th>\n",
       "      <th>116</th>\n",
       "      <th>117</th>\n",
       "      <th>118</th>\n",
       "      <th>max</th>\n",
       "      <th>predicted</th>\n",
       "      <th>real</th>\n",
       "    </tr>\n",
       "  </thead>\n",
       "  <tbody>\n",
       "    <tr>\n",
       "      <th>0</th>\n",
       "      <td>1.677075e-09</td>\n",
       "      <td>4.786375e-11</td>\n",
       "      <td>3.594240e-09</td>\n",
       "      <td>1.679737e-11</td>\n",
       "      <td>5.938936e-09</td>\n",
       "      <td>1.082488e-07</td>\n",
       "      <td>3.083749e-07</td>\n",
       "      <td>2.532832e-07</td>\n",
       "      <td>5.526845e-09</td>\n",
       "      <td>3.223322e-11</td>\n",
       "      <td>...</td>\n",
       "      <td>4.468440e-09</td>\n",
       "      <td>2.263083e-05</td>\n",
       "      <td>2.476573e-02</td>\n",
       "      <td>9.066468e-07</td>\n",
       "      <td>2.463525e-04</td>\n",
       "      <td>1.641271e-04</td>\n",
       "      <td>9.617066e-10</td>\n",
       "      <td>0.925386</td>\n",
       "      <td>97</td>\n",
       "      <td>97</td>\n",
       "    </tr>\n",
       "    <tr>\n",
       "      <th>1</th>\n",
       "      <td>1.567184e-14</td>\n",
       "      <td>1.993533e-16</td>\n",
       "      <td>6.275309e-14</td>\n",
       "      <td>3.610380e-12</td>\n",
       "      <td>7.813677e-04</td>\n",
       "      <td>9.430449e-01</td>\n",
       "      <td>5.525546e-02</td>\n",
       "      <td>1.709206e-06</td>\n",
       "      <td>2.341190e-10</td>\n",
       "      <td>2.494470e-14</td>\n",
       "      <td>...</td>\n",
       "      <td>2.225899e-16</td>\n",
       "      <td>4.877699e-10</td>\n",
       "      <td>4.180376e-07</td>\n",
       "      <td>8.919826e-11</td>\n",
       "      <td>8.229092e-11</td>\n",
       "      <td>1.207656e-10</td>\n",
       "      <td>1.040665e-12</td>\n",
       "      <td>0.943045</td>\n",
       "      <td>5</td>\n",
       "      <td>49</td>\n",
       "    </tr>\n",
       "    <tr>\n",
       "      <th>2</th>\n",
       "      <td>4.750972e-10</td>\n",
       "      <td>1.840355e-09</td>\n",
       "      <td>5.639497e-14</td>\n",
       "      <td>3.493094e-07</td>\n",
       "      <td>1.201318e-11</td>\n",
       "      <td>1.466741e-13</td>\n",
       "      <td>4.452224e-14</td>\n",
       "      <td>7.385920e-15</td>\n",
       "      <td>4.755611e-15</td>\n",
       "      <td>2.609627e-17</td>\n",
       "      <td>...</td>\n",
       "      <td>9.035506e-10</td>\n",
       "      <td>2.360619e-15</td>\n",
       "      <td>5.075025e-15</td>\n",
       "      <td>1.020768e-17</td>\n",
       "      <td>2.771237e-15</td>\n",
       "      <td>4.714207e-17</td>\n",
       "      <td>1.859444e-13</td>\n",
       "      <td>0.715322</td>\n",
       "      <td>19</td>\n",
       "      <td>14</td>\n",
       "    </tr>\n",
       "    <tr>\n",
       "      <th>3</th>\n",
       "      <td>9.335568e-11</td>\n",
       "      <td>1.511868e-10</td>\n",
       "      <td>2.866828e-14</td>\n",
       "      <td>1.837186e-10</td>\n",
       "      <td>5.490438e-24</td>\n",
       "      <td>1.582572e-22</td>\n",
       "      <td>6.966642e-23</td>\n",
       "      <td>1.030901e-20</td>\n",
       "      <td>1.479869e-17</td>\n",
       "      <td>2.848979e-12</td>\n",
       "      <td>...</td>\n",
       "      <td>8.472863e-17</td>\n",
       "      <td>6.407109e-16</td>\n",
       "      <td>6.492397e-20</td>\n",
       "      <td>3.229468e-19</td>\n",
       "      <td>2.050567e-20</td>\n",
       "      <td>2.013915e-20</td>\n",
       "      <td>2.051638e-21</td>\n",
       "      <td>0.999926</td>\n",
       "      <td>110</td>\n",
       "      <td>110</td>\n",
       "    </tr>\n",
       "    <tr>\n",
       "      <th>4</th>\n",
       "      <td>4.064904e-03</td>\n",
       "      <td>4.607418e-05</td>\n",
       "      <td>3.466596e-05</td>\n",
       "      <td>1.939644e-03</td>\n",
       "      <td>2.309766e-05</td>\n",
       "      <td>3.624614e-05</td>\n",
       "      <td>1.877559e-04</td>\n",
       "      <td>1.775351e-03</td>\n",
       "      <td>4.982101e-05</td>\n",
       "      <td>3.479077e-04</td>\n",
       "      <td>...</td>\n",
       "      <td>1.337995e-05</td>\n",
       "      <td>1.945454e-04</td>\n",
       "      <td>2.701508e-04</td>\n",
       "      <td>2.434026e-04</td>\n",
       "      <td>5.457456e-05</td>\n",
       "      <td>7.000696e-06</td>\n",
       "      <td>9.895720e-05</td>\n",
       "      <td>0.368563</td>\n",
       "      <td>40</td>\n",
       "      <td>40</td>\n",
       "    </tr>\n",
       "  </tbody>\n",
       "</table>\n",
       "<p>5 rows × 122 columns</p>\n",
       "</div>"
      ],
      "text/plain": [
       "              0             1             2             3             4  \\\n",
       "0  1.677075e-09  4.786375e-11  3.594240e-09  1.679737e-11  5.938936e-09   \n",
       "1  1.567184e-14  1.993533e-16  6.275309e-14  3.610380e-12  7.813677e-04   \n",
       "2  4.750972e-10  1.840355e-09  5.639497e-14  3.493094e-07  1.201318e-11   \n",
       "3  9.335568e-11  1.511868e-10  2.866828e-14  1.837186e-10  5.490438e-24   \n",
       "4  4.064904e-03  4.607418e-05  3.466596e-05  1.939644e-03  2.309766e-05   \n",
       "\n",
       "              5             6             7             8             9  ...   \\\n",
       "0  1.082488e-07  3.083749e-07  2.532832e-07  5.526845e-09  3.223322e-11  ...    \n",
       "1  9.430449e-01  5.525546e-02  1.709206e-06  2.341190e-10  2.494470e-14  ...    \n",
       "2  1.466741e-13  4.452224e-14  7.385920e-15  4.755611e-15  2.609627e-17  ...    \n",
       "3  1.582572e-22  6.966642e-23  1.030901e-20  1.479869e-17  2.848979e-12  ...    \n",
       "4  3.624614e-05  1.877559e-04  1.775351e-03  4.982101e-05  3.479077e-04  ...    \n",
       "\n",
       "            112           113           114           115           116  \\\n",
       "0  4.468440e-09  2.263083e-05  2.476573e-02  9.066468e-07  2.463525e-04   \n",
       "1  2.225899e-16  4.877699e-10  4.180376e-07  8.919826e-11  8.229092e-11   \n",
       "2  9.035506e-10  2.360619e-15  5.075025e-15  1.020768e-17  2.771237e-15   \n",
       "3  8.472863e-17  6.407109e-16  6.492397e-20  3.229468e-19  2.050567e-20   \n",
       "4  1.337995e-05  1.945454e-04  2.701508e-04  2.434026e-04  5.457456e-05   \n",
       "\n",
       "            117           118       max  predicted  real  \n",
       "0  1.641271e-04  9.617066e-10  0.925386         97    97  \n",
       "1  1.207656e-10  1.040665e-12  0.943045          5    49  \n",
       "2  4.714207e-17  1.859444e-13  0.715322         19    14  \n",
       "3  2.013915e-20  2.051638e-21  0.999926        110   110  \n",
       "4  7.000696e-06  9.895720e-05  0.368563         40    40  \n",
       "\n",
       "[5 rows x 122 columns]"
      ]
     },
     "execution_count": 8,
     "metadata": {},
     "output_type": "execute_result"
    }
   ],
   "source": [
    "data.head()\n"
   ]
  },
  {
   "cell_type": "code",
   "execution_count": 19,
   "metadata": {},
   "outputs": [
    {
     "data": {
      "text/html": [
       "<div>\n",
       "<style scoped>\n",
       "    .dataframe tbody tr th:only-of-type {\n",
       "        vertical-align: middle;\n",
       "    }\n",
       "\n",
       "    .dataframe tbody tr th {\n",
       "        vertical-align: top;\n",
       "    }\n",
       "\n",
       "    .dataframe thead th {\n",
       "        text-align: right;\n",
       "    }\n",
       "</style>\n",
       "<table border=\"1\" class=\"dataframe\">\n",
       "  <thead>\n",
       "    <tr style=\"text-align: right;\">\n",
       "      <th></th>\n",
       "      <th>0</th>\n",
       "      <th>1</th>\n",
       "      <th>2</th>\n",
       "      <th>3</th>\n",
       "      <th>4</th>\n",
       "      <th>5</th>\n",
       "      <th>6</th>\n",
       "      <th>7</th>\n",
       "      <th>8</th>\n",
       "      <th>9</th>\n",
       "      <th>...</th>\n",
       "      <th>14</th>\n",
       "      <th>15</th>\n",
       "      <th>16</th>\n",
       "      <th>17</th>\n",
       "      <th>18</th>\n",
       "      <th>19</th>\n",
       "      <th>max</th>\n",
       "      <th>predicted</th>\n",
       "      <th>real</th>\n",
       "      <th>unknown</th>\n",
       "    </tr>\n",
       "  </thead>\n",
       "  <tbody>\n",
       "    <tr>\n",
       "      <th>0</th>\n",
       "      <td>0.000001</td>\n",
       "      <td>0.000011</td>\n",
       "      <td>0.000001</td>\n",
       "      <td>0.000002</td>\n",
       "      <td>5.027715e-08</td>\n",
       "      <td>2.089477e-08</td>\n",
       "      <td>0.000278</td>\n",
       "      <td>0.824350</td>\n",
       "      <td>0.095187</td>\n",
       "      <td>0.000540</td>\n",
       "      <td>...</td>\n",
       "      <td>4.630315e-07</td>\n",
       "      <td>4.910220e-07</td>\n",
       "      <td>5.125595e-07</td>\n",
       "      <td>3.425821e-07</td>\n",
       "      <td>4.136130e-07</td>\n",
       "      <td>3.799433e-07</td>\n",
       "      <td>0.824350</td>\n",
       "      <td>7</td>\n",
       "      <td>7</td>\n",
       "      <td>0.824350</td>\n",
       "    </tr>\n",
       "    <tr>\n",
       "      <th>1</th>\n",
       "      <td>0.002215</td>\n",
       "      <td>0.001357</td>\n",
       "      <td>0.004304</td>\n",
       "      <td>0.000220</td>\n",
       "      <td>3.247456e-05</td>\n",
       "      <td>3.150916e-05</td>\n",
       "      <td>0.000325</td>\n",
       "      <td>0.001485</td>\n",
       "      <td>0.000213</td>\n",
       "      <td>0.000310</td>\n",
       "      <td>...</td>\n",
       "      <td>9.010506e-05</td>\n",
       "      <td>1.465863e-04</td>\n",
       "      <td>1.550388e-04</td>\n",
       "      <td>9.234465e-05</td>\n",
       "      <td>8.080804e-05</td>\n",
       "      <td>1.912639e-04</td>\n",
       "      <td>0.652015</td>\n",
       "      <td>11</td>\n",
       "      <td>11</td>\n",
       "      <td>0.652015</td>\n",
       "    </tr>\n",
       "    <tr>\n",
       "      <th>2</th>\n",
       "      <td>0.000108</td>\n",
       "      <td>0.000660</td>\n",
       "      <td>0.101380</td>\n",
       "      <td>0.847988</td>\n",
       "      <td>4.558541e-02</td>\n",
       "      <td>2.107611e-03</td>\n",
       "      <td>0.000122</td>\n",
       "      <td>0.000018</td>\n",
       "      <td>0.001974</td>\n",
       "      <td>0.000004</td>\n",
       "      <td>...</td>\n",
       "      <td>6.065031e-06</td>\n",
       "      <td>1.027951e-05</td>\n",
       "      <td>1.073188e-05</td>\n",
       "      <td>6.325337e-06</td>\n",
       "      <td>6.884447e-06</td>\n",
       "      <td>4.864590e-06</td>\n",
       "      <td>0.847988</td>\n",
       "      <td>3</td>\n",
       "      <td>3</td>\n",
       "      <td>0.847988</td>\n",
       "    </tr>\n",
       "    <tr>\n",
       "      <th>3</th>\n",
       "      <td>0.403943</td>\n",
       "      <td>0.002965</td>\n",
       "      <td>0.006953</td>\n",
       "      <td>0.004864</td>\n",
       "      <td>2.002581e-01</td>\n",
       "      <td>2.988560e-01</td>\n",
       "      <td>0.026308</td>\n",
       "      <td>0.040699</td>\n",
       "      <td>0.002280</td>\n",
       "      <td>0.000991</td>\n",
       "      <td>...</td>\n",
       "      <td>1.614643e-04</td>\n",
       "      <td>7.458287e-05</td>\n",
       "      <td>1.444553e-04</td>\n",
       "      <td>1.162960e-04</td>\n",
       "      <td>1.061957e-04</td>\n",
       "      <td>1.584156e-04</td>\n",
       "      <td>0.403943</td>\n",
       "      <td>0</td>\n",
       "      <td>4</td>\n",
       "      <td>0.000000</td>\n",
       "    </tr>\n",
       "    <tr>\n",
       "      <th>4</th>\n",
       "      <td>0.394004</td>\n",
       "      <td>0.571988</td>\n",
       "      <td>0.012107</td>\n",
       "      <td>0.000784</td>\n",
       "      <td>5.051585e-04</td>\n",
       "      <td>5.662740e-04</td>\n",
       "      <td>0.003788</td>\n",
       "      <td>0.007549</td>\n",
       "      <td>0.003057</td>\n",
       "      <td>0.001136</td>\n",
       "      <td>...</td>\n",
       "      <td>3.103389e-05</td>\n",
       "      <td>3.565975e-05</td>\n",
       "      <td>2.033628e-05</td>\n",
       "      <td>3.424896e-05</td>\n",
       "      <td>3.890035e-05</td>\n",
       "      <td>2.522881e-05</td>\n",
       "      <td>0.571988</td>\n",
       "      <td>1</td>\n",
       "      <td>0</td>\n",
       "      <td>0.571988</td>\n",
       "    </tr>\n",
       "  </tbody>\n",
       "</table>\n",
       "<p>5 rows × 24 columns</p>\n",
       "</div>"
      ],
      "text/plain": [
       "          0         1         2         3             4             5  \\\n",
       "0  0.000001  0.000011  0.000001  0.000002  5.027715e-08  2.089477e-08   \n",
       "1  0.002215  0.001357  0.004304  0.000220  3.247456e-05  3.150916e-05   \n",
       "2  0.000108  0.000660  0.101380  0.847988  4.558541e-02  2.107611e-03   \n",
       "3  0.403943  0.002965  0.006953  0.004864  2.002581e-01  2.988560e-01   \n",
       "4  0.394004  0.571988  0.012107  0.000784  5.051585e-04  5.662740e-04   \n",
       "\n",
       "          6         7         8         9    ...               14  \\\n",
       "0  0.000278  0.824350  0.095187  0.000540    ...     4.630315e-07   \n",
       "1  0.000325  0.001485  0.000213  0.000310    ...     9.010506e-05   \n",
       "2  0.000122  0.000018  0.001974  0.000004    ...     6.065031e-06   \n",
       "3  0.026308  0.040699  0.002280  0.000991    ...     1.614643e-04   \n",
       "4  0.003788  0.007549  0.003057  0.001136    ...     3.103389e-05   \n",
       "\n",
       "             15            16            17            18            19  \\\n",
       "0  4.910220e-07  5.125595e-07  3.425821e-07  4.136130e-07  3.799433e-07   \n",
       "1  1.465863e-04  1.550388e-04  9.234465e-05  8.080804e-05  1.912639e-04   \n",
       "2  1.027951e-05  1.073188e-05  6.325337e-06  6.884447e-06  4.864590e-06   \n",
       "3  7.458287e-05  1.444553e-04  1.162960e-04  1.061957e-04  1.584156e-04   \n",
       "4  3.565975e-05  2.033628e-05  3.424896e-05  3.890035e-05  2.522881e-05   \n",
       "\n",
       "        max  predicted  real   unknown  \n",
       "0  0.824350          7     7  0.824350  \n",
       "1  0.652015         11    11  0.652015  \n",
       "2  0.847988          3     3  0.847988  \n",
       "3  0.403943          0     4  0.000000  \n",
       "4  0.571988          1     0  0.571988  \n",
       "\n",
       "[5 rows x 24 columns]"
      ]
     },
     "execution_count": 19,
     "metadata": {},
     "output_type": "execute_result"
    }
   ],
   "source": [
    "def threshold(serie):\n",
    "    if serie['max'] >= 0.5:\n",
    "        return serie['max']\n",
    "    else:\n",
    "        return 0\n",
    "\n",
    "data['unknown'] = data.apply(threshold, axis=1)\n",
    "\n",
    "data.head()\n"
   ]
  },
  {
   "cell_type": "code",
   "execution_count": 20,
   "metadata": {
    "collapsed": true
   },
   "outputs": [],
   "source": [
    "knowns = data['unknown'].value_counts()\n"
   ]
  },
  {
   "cell_type": "code",
   "execution_count": 21,
   "metadata": {},
   "outputs": [
    {
     "name": "stdout",
     "output_type": "stream",
     "text": [
      "320\n",
      "35\n"
     ]
    }
   ],
   "source": [
    "print(len(data[1]))\n",
    "print(knowns[0])"
   ]
  },
  {
   "cell_type": "code",
   "execution_count": 22,
   "metadata": {},
   "outputs": [
    {
     "data": {
      "text/plain": [
       "0.890625"
      ]
     },
     "execution_count": 22,
     "metadata": {},
     "output_type": "execute_result"
    }
   ],
   "source": [
    "a = (len(data[1])-knowns[0])/len(data[1])\n",
    "a"
   ]
  },
  {
   "cell_type": "code",
   "execution_count": 23,
   "metadata": {},
   "outputs": [
    {
     "name": "stderr",
     "output_type": "stream",
     "text": [
      "C:\\Users\\mariv\\Anaconda3\\lib\\site-packages\\ipykernel_launcher.py:1: UserWarning: Boolean Series key will be reindexed to match DataFrame index.\n",
      "  \"\"\"Entry point for launching an IPython kernel.\n",
      "C:\\Users\\mariv\\Anaconda3\\lib\\site-packages\\ipykernel_launcher.py:3: UserWarning: Boolean Series key will be reindexed to match DataFrame index.\n",
      "  This is separate from the ipykernel package so we can avoid doing imports until\n"
     ]
    }
   ],
   "source": [
    "knowns_count = len(data[data['unknown'] != 0][data['predicted'] == data['real']])\n",
    "\n",
    "w_knowns_count = len(data[data['unknown'] != 0][data['predicted'] != data['real']])"
   ]
  },
  {
   "cell_type": "code",
   "execution_count": 24,
   "metadata": {},
   "outputs": [
    {
     "data": {
      "text/plain": [
       "0.7684210526315789"
      ]
     },
     "execution_count": 24,
     "metadata": {},
     "output_type": "execute_result"
    }
   ],
   "source": [
    "acc = knowns_count/(knowns_count + w_knowns_count)\n",
    "acc"
   ]
  },
  {
   "cell_type": "code",
   "execution_count": null,
   "metadata": {
    "collapsed": true
   },
   "outputs": [],
   "source": []
  },
  {
   "cell_type": "code",
   "execution_count": null,
   "metadata": {
    "collapsed": true
   },
   "outputs": [],
   "source": []
  }
 ],
 "metadata": {
  "kernelspec": {
   "display_name": "Python 3",
   "language": "python",
   "name": "python3"
  },
  "language_info": {
   "codemirror_mode": {
    "name": "ipython",
    "version": 3
   },
   "file_extension": ".py",
   "mimetype": "text/x-python",
   "name": "python",
   "nbconvert_exporter": "python",
   "pygments_lexer": "ipython3",
   "version": "3.6.7"
  }
 },
 "nbformat": 4,
 "nbformat_minor": 2
}
