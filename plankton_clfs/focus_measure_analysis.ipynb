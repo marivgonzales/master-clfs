{
 "cells": [
  {
   "cell_type": "code",
   "execution_count": 35,
   "metadata": {},
   "outputs": [
    {
     "name": "stdout",
     "output_type": "stream",
     "text": [
      "(518,)\n",
      "(518,)\n",
      "(518, 5)\n"
     ]
    }
   ],
   "source": [
    "import numpy as np\n",
    "import matplotlib.pyplot as plt\n",
    "%matplotlib inline\n",
    "\n",
    "import pandas as pd\n",
    "\n",
    "#predicted_labels = np.load(\"./ndsb_dataset_nounk/predicted_labels_nounk.npy\")\n",
    "predicted_labels= np.load(\"./laps_nobg_100/predictions.npy\")\n",
    "#predicted_labels = np.argmax(predictions, axis=1)\n",
    "print(np.shape(predicted_labels))\n",
    "\n",
    "#real_labels = np.load(\"./ndsb_dataset_nounk/real_labels_nounk.npy\")\n",
    "real_labels = np.load(\"./laps_nobg_100/real_labels.npy\")\n",
    "print(np.shape(real_labels))\n",
    "\n",
    "#measures = np.load(\"focus_measure_ndsb_nounk.npy\")\n",
    "measures = np.load(\"focus_valid_laps.npy\")\n",
    "print(np.shape(measures))\n"
   ]
  },
  {
   "cell_type": "code",
   "execution_count": 36,
   "metadata": {},
   "outputs": [
    {
     "data": {
      "text/html": [
       "<div>\n",
       "<style scoped>\n",
       "    .dataframe tbody tr th:only-of-type {\n",
       "        vertical-align: middle;\n",
       "    }\n",
       "\n",
       "    .dataframe tbody tr th {\n",
       "        vertical-align: top;\n",
       "    }\n",
       "\n",
       "    .dataframe thead th {\n",
       "        text-align: right;\n",
       "    }\n",
       "</style>\n",
       "<table border=\"1\" class=\"dataframe\">\n",
       "  <thead>\n",
       "    <tr style=\"text-align: right;\">\n",
       "      <th></th>\n",
       "      <th>gblvar</th>\n",
       "      <th>lapm</th>\n",
       "      <th>lapv</th>\n",
       "      <th>predicted</th>\n",
       "      <th>real</th>\n",
       "      <th>teng</th>\n",
       "      <th>totvar</th>\n",
       "    </tr>\n",
       "  </thead>\n",
       "  <tbody>\n",
       "    <tr>\n",
       "      <th>0</th>\n",
       "      <td>0.078619</td>\n",
       "      <td>0.062546</td>\n",
       "      <td>0.038825</td>\n",
       "      <td>2</td>\n",
       "      <td>3</td>\n",
       "      <td>0.636660</td>\n",
       "      <td>7835.740039</td>\n",
       "    </tr>\n",
       "    <tr>\n",
       "      <th>1</th>\n",
       "      <td>0.024910</td>\n",
       "      <td>0.043574</td>\n",
       "      <td>0.003948</td>\n",
       "      <td>13</td>\n",
       "      <td>7</td>\n",
       "      <td>0.112697</td>\n",
       "      <td>8489.485862</td>\n",
       "    </tr>\n",
       "    <tr>\n",
       "      <th>2</th>\n",
       "      <td>0.005880</td>\n",
       "      <td>0.070231</td>\n",
       "      <td>0.015677</td>\n",
       "      <td>17</td>\n",
       "      <td>17</td>\n",
       "      <td>0.040518</td>\n",
       "      <td>8795.167319</td>\n",
       "    </tr>\n",
       "    <tr>\n",
       "      <th>3</th>\n",
       "      <td>0.035273</td>\n",
       "      <td>0.060877</td>\n",
       "      <td>0.014352</td>\n",
       "      <td>0</td>\n",
       "      <td>1</td>\n",
       "      <td>0.198906</td>\n",
       "      <td>8415.278765</td>\n",
       "    </tr>\n",
       "    <tr>\n",
       "      <th>4</th>\n",
       "      <td>0.010457</td>\n",
       "      <td>0.039253</td>\n",
       "      <td>0.005078</td>\n",
       "      <td>17</td>\n",
       "      <td>17</td>\n",
       "      <td>0.142213</td>\n",
       "      <td>8710.637350</td>\n",
       "    </tr>\n",
       "  </tbody>\n",
       "</table>\n",
       "</div>"
      ],
      "text/plain": [
       "     gblvar      lapm      lapv  predicted  real      teng       totvar\n",
       "0  0.078619  0.062546  0.038825          2     3  0.636660  7835.740039\n",
       "1  0.024910  0.043574  0.003948         13     7  0.112697  8489.485862\n",
       "2  0.005880  0.070231  0.015677         17    17  0.040518  8795.167319\n",
       "3  0.035273  0.060877  0.014352          0     1  0.198906  8415.278765\n",
       "4  0.010457  0.039253  0.005078         17    17  0.142213  8710.637350"
      ]
     },
     "execution_count": 36,
     "metadata": {},
     "output_type": "execute_result"
    }
   ],
   "source": [
    "data = pd.DataFrame({'real':real_labels, 'predicted':predicted_labels, 'lapv':measures[:,0], 'lapm':measures[:,1], 'teng':measures[:,2], 'gblvar':measures[:,3], 'totvar':measures[:,4]})\n",
    "\n",
    "data.head()"
   ]
  },
  {
   "cell_type": "code",
   "execution_count": 37,
   "metadata": {
    "collapsed": true
   },
   "outputs": [],
   "source": [
    "measures_log = np.log(measures)\n",
    "\n",
    "data_log = pd.DataFrame({'real':real_labels, 'predicted':predicted_labels, 'lapv':measures_log[:,0], 'lapm':measures_log[:,1], 'teng':measures_log[:,2], 'gblvar':measures_log[:,3], 'totvar':measures_log[:,4]})"
   ]
  },
  {
   "cell_type": "code",
   "execution_count": 3,
   "metadata": {
    "collapsed": true
   },
   "outputs": [],
   "source": [
    "true_false = np.zeros(len(real_labels), dtype=int)\n",
    "for i in range(len(real_labels)):\n",
    "    if predicted_labels[i] == real_labels[i]:\n",
    "        true_false[i] = 1"
   ]
  },
  {
   "cell_type": "code",
   "execution_count": null,
   "metadata": {
    "collapsed": true
   },
   "outputs": [],
   "source": []
  },
  {
   "cell_type": "code",
   "execution_count": 38,
   "metadata": {},
   "outputs": [
    {
     "name": "stderr",
     "output_type": "stream",
     "text": [
      "C:\\Users\\mariv\\Anaconda3\\lib\\site-packages\\numpy\\core\\fromnumeric.py:52: FutureWarning: reshape is deprecated and will raise in a subsequent release. Please use .values.reshape(...) instead\n",
      "  return getattr(obj, method)(*args, **kwds)\n"
     ]
    },
    {
     "data": {
      "image/png": "[encoded data removed]",
      "text/plain": [
       "<Figure size 432x288 with 5 Axes>"
      ]
     },
     "metadata": {},
     "output_type": "display_data"
    }
   ],
   "source": [
    "f, a = plt.subplots(1,5, sharex=False, sharey=False)\n",
    "names = ['lapv', 'lapm', 'teng', 'gblvar', 'totvar']\n",
    "colors = ['blue', 'red']\n",
    "\n",
    "i=0\n",
    "for name in names:\n",
    "    box_true = data[data['predicted'] == data['real']][name]\n",
    "    box_false = data[data['predicted'] != data['real']][name]\n",
    "    bplot = a[i].boxplot([box_true, box_false], widths=1, labels=['+', '-'],patch_artist=True)\n",
    "    a[i].set_title(name)\n",
    "    a[i].get_yaxis().set_ticklabels('')\n",
    "    i = i+1\n",
    "    for patch, color in zip(bplot['boxes'], colors):\n",
    "        patch.set_facecolor(color)\n",
    "    \n",
    "f.subplots_adjust(hspace=0)\n",
    "\n",
    "plt.show()\n"
   ]
  },
  {
   "cell_type": "code",
   "execution_count": 39,
   "metadata": {},
   "outputs": [
    {
     "name": "stderr",
     "output_type": "stream",
     "text": [
      "C:\\Users\\mariv\\Anaconda3\\lib\\site-packages\\numpy\\core\\fromnumeric.py:52: FutureWarning: reshape is deprecated and will raise in a subsequent release. Please use .values.reshape(...) instead\n",
      "  return getattr(obj, method)(*args, **kwds)\n"
     ]
    },
    {
     "data": {
      "image/png": "[encoded data removed]",
      "text/plain": [
       "<Figure size 432x288 with 5 Axes>"
      ]
     },
     "metadata": {},
     "output_type": "display_data"
    }
   ],
   "source": [
    "f, a = plt.subplots(1,5, sharex=False, sharey=False)\n",
    "names = ['lapv', 'lapm', 'teng', 'gblvar', 'totvar']\n",
    "\n",
    "i=0\n",
    "for name in names:\n",
    "    box_true = data_log[data_log['predicted'] == data_log['real']][name]\n",
    "    box_false = data_log[data_log['predicted'] != data_log['real']][name]\n",
    "    bplot = a[i].boxplot([box_true, box_false], widths=1, labels=['+', '-'],patch_artist=True)\n",
    "    a[i].set_title(name + '_log')\n",
    "    a[i].get_yaxis().set_ticklabels('')\n",
    "    i = i+1\n",
    "    for patch, color in zip(bplot['boxes'], colors):\n",
    "        patch.set_facecolor(color)\n",
    "\n",
    "    \n",
    "f.subplots_adjust(hspace=0)\n",
    "\n",
    "plt.show()"
   ]
  },
  {
   "cell_type": "code",
   "execution_count": 4,
   "metadata": {},
   "outputs": [
    {
     "name": "stderr",
     "output_type": "stream",
     "text": [
      "C:\\Users\\mariv\\Anaconda3\\lib\\site-packages\\numpy\\core\\fromnumeric.py:52: FutureWarning: reshape is deprecated and will raise in a subsequent release. Please use .values.reshape(...) instead\n",
      "  return getattr(obj, method)(*args, **kwds)\n"
     ]
    },
    {
     "data": {
      "image/png": "[encoded data removed]",
      "text/plain": [
       "<Figure size 432x288 with 1 Axes>"
      ]
     },
     "metadata": {},
     "output_type": "display_data"
    }
   ],
   "source": [
    "f, a = plt.subplots()\n",
    "box_true = data_log[data_log['predicted'] == data_log['real']]['totvar']\n",
    "box_false = data_log[data_log['predicted'] != data_log['real']]['totvar']\n",
    "a.boxplot([box_true, box_false],  labels=['+', '-'])\n",
    "a.set_title('focus-totvar-log')\n",
    "    \n",
    "f.subplots_adjust(hspace=0)\n",
    "plt.show()"
   ]
  },
  {
   "cell_type": "code",
   "execution_count": 5,
   "metadata": {},
   "outputs": [
    {
     "name": "stderr",
     "output_type": "stream",
     "text": [
      "C:\\Users\\mariv\\Anaconda3\\lib\\site-packages\\numpy\\core\\fromnumeric.py:52: FutureWarning: reshape is deprecated and will raise in a subsequent release. Please use .values.reshape(...) instead\n",
      "  return getattr(obj, method)(*args, **kwds)\n"
     ]
    },
    {
     "data": {
      "image/png": "[encoded data removed]",
      "text/plain": [
       "<Figure size 432x288 with 1 Axes>"
      ]
     },
     "metadata": {},
     "output_type": "display_data"
    }
   ],
   "source": [
    "f, a = plt.subplots()\n",
    "box_true = data[data['predicted'] == data['real']]['totvar']\n",
    "box_false = data[data['predicted'] != data['real']]['totvar']\n",
    "a.boxplot([box_true, box_false],  labels=['+', '-'])\n",
    "a.set_title('focus-totvar')\n",
    "    \n",
    "f.subplots_adjust(hspace=0)\n",
    "plt.show()"
   ]
  },
  {
   "cell_type": "code",
   "execution_count": null,
   "metadata": {},
   "outputs": [],
   "source": [
    "f, a = plt.subplots(1,13, sharex=False, sharey=True)\n",
    "\n",
    "colors = ['blue', 'red']\n",
    "\n",
    "for i in range(13):\n",
    "    j = i+14\n",
    "    box_true = data[data['predicted'] == j][data['real'] == j]['gblvar']\n",
    "    box_false = data[data['predicted'] != j][data['real'] == j]['gblvar']\n",
    "    print(\"loading\", j)\n",
    "    bplot = a[i].boxplot([box_true, box_false], widths=0.8, labels=['+', '-'],patch_artist=True)\n",
    "    a[i].set_title(j)\n",
    "\n",
    "    for patch, color in zip(bplot['boxes'], colors):\n",
    "        patch.set_facecolor(color)\n",
    "        \n",
    "f.subplots_adjust(hspace=0)\n",
    "plt.show()"
   ]
  },
  {
   "cell_type": "code",
   "execution_count": null,
   "metadata": {
    "collapsed": true
   },
   "outputs": [],
   "source": [
    "fig, ax = plt.subplots()\n",
    "plt.scatter(measures_log[:,0], measures_log[:,1], c=true_false, s=0.5, cmap='bwr_r')\n",
    "plt.colorbar()\n",
    "ax.set_xlabel('Variance of Laplacian')\n",
    "ax.set_ylabel('Modified Laplacian')"
   ]
  },
  {
   "cell_type": "code",
   "execution_count": null,
   "metadata": {
    "collapsed": true
   },
   "outputs": [],
   "source": [
    "fig1, ax1 = plt.subplots()\n",
    "plt.scatter(measures_log[:,0], measures_log[:,2], c=true_false, s=0.5, cmap='bwr_r')\n",
    "plt.colorbar()\n",
    "ax1.set_xlabel('Variance of Laplacian')\n",
    "ax1.set_ylabel('Tenengrad')"
   ]
  },
  {
   "cell_type": "code",
   "execution_count": null,
   "metadata": {
    "collapsed": true
   },
   "outputs": [],
   "source": [
    "fig2, ax2 = plt.subplots()\n",
    "plt.scatter(measures_log[:,1], measures_log[:,2], c=true_false, s=0.5, cmap='bwr_r')\n",
    "plt.colorbar()\n",
    "ax2.set_xlabel('Modified Laplacian')\n",
    "ax2.set_ylabel('Tenengrad')"
   ]
  },
  {
   "cell_type": "code",
   "execution_count": null,
   "metadata": {
    "collapsed": true
   },
   "outputs": [],
   "source": [
    "fig3, ax3 = plt.subplots()\n",
    "plt.scatter(measures_log[:,0], true_false, s=0.6)\n",
    "\n",
    "ax3.set_xlabel('Variance of Laplacian')\n",
    "ax3.set_ylabel('Predições negativas e positivas')"
   ]
  },
  {
   "cell_type": "code",
   "execution_count": null,
   "metadata": {
    "collapsed": true
   },
   "outputs": [],
   "source": [
    "fig3, ax3 = plt.subplots()\n",
    "plt.scatter(measures_log[:,1], true_false, s=0.5)\n",
    "\n",
    "ax3.set_xlabel('Modified Laplacian')\n",
    "ax3.set_ylabel('Predições positivas')"
   ]
  },
  {
   "cell_type": "code",
   "execution_count": null,
   "metadata": {
    "collapsed": true
   },
   "outputs": [],
   "source": [
    "fig3, ax3 = plt.subplots()\n",
    "plt.scatter(measures_log[:,2], true_false, s=0.5)\n",
    "\n",
    "ax3.set_xlabel('Tenengrad')\n",
    "ax3.set_ylabel('Predições positivas')"
   ]
  },
  {
   "cell_type": "code",
   "execution_count": null,
   "metadata": {},
   "outputs": [],
   "source": [
    "predicted_labels = np.load(\"./laps_nobg_100/predictions.npy\")\n",
    "#predicted_labels = np.argmax(predictions, axis=1)\n",
    "\n",
    "real_labels = np.load(\"./laps_nobg_100/real_labels.npy\")\n",
    "\n",
    "measures = np.load(\"focus_valid_laps.npy\")\n",
    "\n",
    "data = pd.DataFrame({'real':real_labels, 'predicted':predicted_labels, 'lapv':measures[:,0], 'lapm':measures[:,1], 'teng':measures[:,2], 'gblvar':measures[:,3], 'totvar':measures[:,4]})\n",
    "\n",
    "data "
   ]
  },
  {
   "cell_type": "code",
   "execution_count": null,
   "metadata": {},
   "outputs": [],
   "source": [
    "f, a = plt.subplots(1,20, sharex=False, sharey=True)\n",
    "\n",
    "for i in range(20):\n",
    "    box_true = data[data['predicted'] == i][data['real'] == i]['gblvar']\n",
    "    box_false = data[data['predicted'] != i][data['real'] == i]['gblvar']\n",
    "    a[i].boxplot([box_true, box_false], widths=1, labels=['+', '-'])\n",
    "    a[i].set_title(i)\n",
    "    \n",
    "f.subplots_adjust(hspace=0)\n",
    "plt.show()\n"
   ]
  },
  {
   "cell_type": "code",
   "execution_count": null,
   "metadata": {
    "collapsed": true
   },
   "outputs": [],
   "source": [
    "f, a = plt.subplots()\n",
    "box_true = data[data['predicted'] == data['real']]['lapv']\n",
    "box_false = data[data['predicted'] != data['real']]['lapv']\n",
    "a.boxplot([box_true, box_false],  labels=['+', '-'])\n",
    "a.set_title('total')\n",
    "    \n",
    "f.subplots_adjust(hspace=0)\n",
    "plt.show()"
   ]
  },
  {
   "cell_type": "code",
   "execution_count": null,
   "metadata": {
    "collapsed": true
   },
   "outputs": [],
   "source": [
    "f, a = plt.subplots()\n",
    "box_true = data[data['predicted'] == data['real']]['lapm']\n",
    "box_false = data[data['predicted'] != data['real']]['lapm']\n",
    "a.boxplot([box_true, box_false],  labels=['+', '-'])\n",
    "a.set_title('total')\n",
    "    \n",
    "f.subplots_adjust(hspace=0)\n",
    "plt.show()"
   ]
  },
  {
   "cell_type": "code",
   "execution_count": null,
   "metadata": {
    "collapsed": true
   },
   "outputs": [],
   "source": [
    "f, a = plt.subplots()\n",
    "box_true = data[data['predicted'] == data['real']]['teng']\n",
    "box_false = data[data['predicted'] != data['real']]['teng']\n",
    "a.boxplot([box_true, box_false],  labels=['+', '-'])\n",
    "a.set_title('total')\n",
    "    \n",
    "f.subplots_adjust(hspace=0)\n",
    "plt.show()"
   ]
  },
  {
   "cell_type": "code",
   "execution_count": null,
   "metadata": {
    "collapsed": true
   },
   "outputs": [],
   "source": [
    "true_false = np.zeros(len(real_labels), dtype=int)\n",
    "for i in range(len(real_labels)):\n",
    "    if predicted_labels[i] == real_labels[i]:\n",
    "        true_false[i] = 1\n",
    "measures_log = np.log(measures)\n",
    "\n",
    "fig10, ax10 = plt.subplots()\n",
    "plt.scatter(measures_log[:,0], measures_log[:,1], c=true_false, s=0.5, cmap='bwr_r')\n",
    "plt.colorbar()\n",
    "ax10.set_xlabel('Variance of Laplacian')\n",
    "ax10.set_ylabel('Modified Laplacian')"
   ]
  },
  {
   "cell_type": "code",
   "execution_count": null,
   "metadata": {
    "collapsed": true
   },
   "outputs": [],
   "source": [
    "fig2, ax2 = plt.subplots()\n",
    "plt.scatter(measures_log[:,1], measures_log[:,2], c=true_false, s=0.5, cmap='bwr_r')\n",
    "plt.colorbar()\n",
    "ax2.set_xlabel('Modified Laplacian')\n",
    "ax2.set_ylabel('Tenengrad')"
   ]
  },
  {
   "cell_type": "code",
   "execution_count": null,
   "metadata": {
    "collapsed": true
   },
   "outputs": [],
   "source": [
    "import gzip\n",
    "train_path = \"./laps_nobg_100/images_train.npy.gz\"\n",
    "#labels_path = \"./laps_nobg_100/labels_train.npy.gz\"\n",
    "#with gzip.open(labels_path, \"rb\") as f:\n",
    "#    labels = np.load(f)\n",
    "\n",
    "#train_idx = np.load(\"./laps_nobg_100/indices_train.npy\")\n",
    "valid_idx = np.load(\"./laps_nobg_100/indices_valid.npy\")\n",
    "\n",
    "with gzip.open(train_path, \"rb\") as f:\n",
    "    imgs = np.load(f)\n",
    "    \n",
    "img_valid = imgs[valid_idx]\n"
   ]
  },
  {
   "cell_type": "code",
   "execution_count": null,
   "metadata": {},
   "outputs": [],
   "source": [
    "print(data.iloc[1])\n",
    "plt.imshow(img_valid[1], cmap='gray')\n",
    "plt.show"
   ]
  },
  {
   "cell_type": "code",
   "execution_count": null,
   "metadata": {},
   "outputs": [],
   "source": [
    "print(data.iloc[22])\n",
    "plt.imshow(img_valid[22], cmap='gray')\n",
    "plt.show"
   ]
  },
  {
   "cell_type": "code",
   "execution_count": null,
   "metadata": {},
   "outputs": [],
   "source": [
    "print(data.iloc[5])\n",
    "plt.imshow(img_valid[5], cmap='gray')\n",
    "plt.show"
   ]
  },
  {
   "cell_type": "code",
   "execution_count": null,
   "metadata": {},
   "outputs": [],
   "source": [
    "print(data.iloc[512])\n",
    "plt.imshow(img_valid[512], cmap='gray')\n",
    "plt.show"
   ]
  },
  {
   "cell_type": "code",
   "execution_count": null,
   "metadata": {},
   "outputs": [],
   "source": [
    "print(data.iloc[506])\n",
    "plt.imshow(img_valid[506], cmap='gray')\n",
    "plt.show"
   ]
  },
  {
   "cell_type": "code",
   "execution_count": null,
   "metadata": {
    "collapsed": true
   },
   "outputs": [],
   "source": [
    "import scipy.ndimage"
   ]
  },
  {
   "cell_type": "code",
   "execution_count": null,
   "metadata": {
    "collapsed": true
   },
   "outputs": [],
   "source": [
    "gblvar = scipy.ndimage.uniform_filter(img_valid[1])"
   ]
  },
  {
   "cell_type": "code",
   "execution_count": null,
   "metadata": {
    "collapsed": true
   },
   "outputs": [],
   "source": [
    "gblvar\n"
   ]
  },
  {
   "cell_type": "code",
   "execution_count": null,
   "metadata": {
    "collapsed": true
   },
   "outputs": [],
   "source": [
    "np.var(gblvar)"
   ]
  },
  {
   "cell_type": "code",
   "execution_count": null,
   "metadata": {
    "collapsed": true
   },
   "outputs": [],
   "source": []
  }
 ],
 "metadata": {
  "kernelspec": {
   "display_name": "Python 3",
   "language": "python",
   "name": "python3"
  },
  "language_info": {
   "codemirror_mode": {
    "name": "ipython",
    "version": 3
   },
   "file_extension": ".py",
   "mimetype": "text/x-python",
   "name": "python",
   "nbconvert_exporter": "python",
   "pygments_lexer": "ipython3",
   "version": "3.6.1"
  }
 },
 "nbformat": 4,
 "nbformat_minor": 2
}
